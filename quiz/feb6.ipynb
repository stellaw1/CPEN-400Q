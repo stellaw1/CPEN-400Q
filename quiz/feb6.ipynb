{
 "cells": [
  {
   "cell_type": "code",
   "execution_count": 1,
   "metadata": {},
   "outputs": [],
   "source": [
    "from pennylane import numpy as np\n",
    "import pennylane as qml\n",
    "\n",
    "dev = qml.device(\"default.qubit\", wires=2)\n",
    "\n",
    "@qml.qnode(dev)\n",
    "def quiz_4_qnode(z):\n",
    "    # YOUR CODE HERE: complete the QNode as in the picture\n",
    "    qml.Hadamard(wires=0)\n",
    "    qml.Hadamard(wires=1)\n",
    "    qml.ctrl(qml.RZ, control=0)(z, wires=1)\n",
    "    \n",
    "    # m1 = qml.measure(wires=1)\n",
    "    \n",
    "    return qml.expval(qml.PauliY(1))\n",
    "\n",
    "def compute_gradient(z):\n",
    "    # This function should, given an input z, evaluate and return\n",
    "    # the gradient of quiz_4_qnode at z.\n",
    "    \n",
    "    # Do not change the next line; it is required to ensure the input\n",
    "    # parameter passed to the QNode will be differentiable.\n",
    "    z = np.array(z, requires_grad=True)\n",
    "    \n",
    "    # YOUR CODE HERE\n",
    "    grad_value = qml.grad(quiz_4_qnode) # CHANGE ME\n",
    "\n",
    "    return grad_value"
   ]
  },
  {
   "cell_type": "code",
   "execution_count": 10,
   "metadata": {},
   "outputs": [
    {
     "name": "stdout",
     "output_type": "stream",
     "text": [
      "5.925446355491344\n"
     ]
    }
   ],
   "source": [
    "phi = np.array([np.exp(1j/3)/np.sqrt(3), np.sqrt(2)/np.sqrt(3)])\n",
    "phi_cc = np.array([np.exp(-1j/3)/np.sqrt(3), np.sqrt(2)/np.sqrt(3)])\n",
    "\n",
    "B = np.array([[5, 3j], [-3j, 5]])\n",
    "\n",
    "right = np.dot(B, phi)\n",
    "left = np.dot(phi_cc, right)\n",
    "\n",
    "print(np.abs(left))\n",
    "\n"
   ]
  },
  {
   "cell_type": "code",
   "execution_count": 4,
   "metadata": {},
   "outputs": [
    {
     "ename": "TypeError",
     "evalue": "exp() takes from 1 to 2 positional arguments but 0 were given",
     "output_type": "error",
     "traceback": [
      "\u001b[0;31m---------------------------------------------------------------------------\u001b[0m",
      "\u001b[0;31mTypeError\u001b[0m                                 Traceback (most recent call last)",
      "Cell \u001b[0;32mIn[4], line 12\u001b[0m\n\u001b[1;32m      9\u001b[0m     A \u001b[39m=\u001b[39m np\u001b[39m.\u001b[39mmatrix([[\u001b[39m-\u001b[39m\u001b[39m2\u001b[39m, \u001b[39m5\u001b[39mj], [\u001b[39m-\u001b[39m\u001b[39m5\u001b[39mj, \u001b[39m-\u001b[39m\u001b[39m4\u001b[39m]])\n\u001b[1;32m     10\u001b[0m     \u001b[39mreturn\u001b[39;00m qml\u001b[39m.\u001b[39mexpval(qml\u001b[39m.\u001b[39mHermitian(A, wires\u001b[39m=\u001b[39m\u001b[39m0\u001b[39m))\n\u001b[0;32m---> 12\u001b[0m fn1()\n",
      "File \u001b[0;32m~/opt/miniconda3/envs/cpen400q/lib/python3.11/site-packages/pennylane/qnode.py:800\u001b[0m, in \u001b[0;36mQNode.__call__\u001b[0;34m(self, *args, **kwargs)\u001b[0m\n\u001b[1;32m    797\u001b[0m         set_shots(\u001b[39mself\u001b[39m\u001b[39m.\u001b[39m_original_device, override_shots)(\u001b[39mself\u001b[39m\u001b[39m.\u001b[39m_update_gradient_fn)()\n\u001b[1;32m    799\u001b[0m \u001b[39m# construct the tape\u001b[39;00m\n\u001b[0;32m--> 800\u001b[0m \u001b[39mself\u001b[39;49m\u001b[39m.\u001b[39;49mconstruct(args, kwargs)\n\u001b[1;32m    802\u001b[0m cache \u001b[39m=\u001b[39m \u001b[39mself\u001b[39m\u001b[39m.\u001b[39mexecute_kwargs\u001b[39m.\u001b[39mget(\u001b[39m\"\u001b[39m\u001b[39mcache\u001b[39m\u001b[39m\"\u001b[39m, \u001b[39mFalse\u001b[39;00m)\n\u001b[1;32m    803\u001b[0m using_custom_cache \u001b[39m=\u001b[39m (\n\u001b[1;32m    804\u001b[0m     \u001b[39mhasattr\u001b[39m(cache, \u001b[39m\"\u001b[39m\u001b[39m__getitem__\u001b[39m\u001b[39m\"\u001b[39m)\n\u001b[1;32m    805\u001b[0m     \u001b[39mand\u001b[39;00m \u001b[39mhasattr\u001b[39m(cache, \u001b[39m\"\u001b[39m\u001b[39m__setitem__\u001b[39m\u001b[39m\"\u001b[39m)\n\u001b[1;32m    806\u001b[0m     \u001b[39mand\u001b[39;00m \u001b[39mhasattr\u001b[39m(cache, \u001b[39m\"\u001b[39m\u001b[39m__delitem__\u001b[39m\u001b[39m\"\u001b[39m)\n\u001b[1;32m    807\u001b[0m )\n",
      "File \u001b[0;32m~/opt/miniconda3/envs/cpen400q/lib/python3.11/site-packages/pennylane/qnode.py:711\u001b[0m, in \u001b[0;36mQNode.construct\u001b[0;34m(self, args, kwargs)\u001b[0m\n\u001b[1;32m    708\u001b[0m \u001b[39mdef\u001b[39;00m \u001b[39mconstruct\u001b[39m(\u001b[39mself\u001b[39m, args, kwargs):\n\u001b[1;32m    709\u001b[0m \u001b[39m    \u001b[39m\u001b[39m\"\"\"Call the quantum function with a tape context, ensuring the operations get queued.\"\"\"\u001b[39;00m\n\u001b[0;32m--> 711\u001b[0m     \u001b[39mself\u001b[39m\u001b[39m.\u001b[39m_tape \u001b[39m=\u001b[39m make_qscript(\u001b[39mself\u001b[39;49m\u001b[39m.\u001b[39;49mfunc)(\u001b[39m*\u001b[39;49margs, \u001b[39m*\u001b[39;49m\u001b[39m*\u001b[39;49mkwargs)\n\u001b[1;32m    712\u001b[0m     \u001b[39mself\u001b[39m\u001b[39m.\u001b[39m_tape\u001b[39m.\u001b[39m_queue_category \u001b[39m=\u001b[39m \u001b[39m\"\u001b[39m\u001b[39m_ops\u001b[39m\u001b[39m\"\u001b[39m\n\u001b[1;32m    713\u001b[0m     \u001b[39mself\u001b[39m\u001b[39m.\u001b[39m_qfunc_output \u001b[39m=\u001b[39m \u001b[39mself\u001b[39m\u001b[39m.\u001b[39mtape\u001b[39m.\u001b[39m_qfunc_output\n",
      "File \u001b[0;32m~/opt/miniconda3/envs/cpen400q/lib/python3.11/site-packages/pennylane/tape/qscript.py:1346\u001b[0m, in \u001b[0;36mmake_qscript.<locals>.wrapper\u001b[0;34m(*args, **kwargs)\u001b[0m\n\u001b[1;32m   1344\u001b[0m \u001b[39mdef\u001b[39;00m \u001b[39mwrapper\u001b[39m(\u001b[39m*\u001b[39margs, \u001b[39m*\u001b[39m\u001b[39m*\u001b[39mkwargs):\n\u001b[1;32m   1345\u001b[0m     \u001b[39mwith\u001b[39;00m AnnotatedQueue() \u001b[39mas\u001b[39;00m q:\n\u001b[0;32m-> 1346\u001b[0m         result \u001b[39m=\u001b[39m fn(\u001b[39m*\u001b[39;49margs, \u001b[39m*\u001b[39;49m\u001b[39m*\u001b[39;49mkwargs)\n\u001b[1;32m   1348\u001b[0m     qscript \u001b[39m=\u001b[39m QuantumScript\u001b[39m.\u001b[39mfrom_queue(q)\n\u001b[1;32m   1349\u001b[0m     qscript\u001b[39m.\u001b[39m_qfunc_output \u001b[39m=\u001b[39m result\n",
      "Cell \u001b[0;32mIn[4], line 6\u001b[0m, in \u001b[0;36mfn1\u001b[0;34m()\u001b[0m\n\u001b[1;32m      4\u001b[0m \u001b[39m@qml\u001b[39m\u001b[39m.\u001b[39mqnode(dev)\n\u001b[1;32m      5\u001b[0m \u001b[39mdef\u001b[39;00m \u001b[39mfn1\u001b[39m():\n\u001b[0;32m----> 6\u001b[0m     state \u001b[39m=\u001b[39m np\u001b[39m.\u001b[39marray([\u001b[39m1\u001b[39m\u001b[39m/\u001b[39mnp\u001b[39m.\u001b[39msqrt(\u001b[39m3\u001b[39m) \u001b[39m*\u001b[39m np\u001b[39m.\u001b[39;49mexp(), np\u001b[39m.\u001b[39msqrt(\u001b[39m2\u001b[39m)\u001b[39m/\u001b[39mnp\u001b[39m.\u001b[39msqrt(\u001b[39m3\u001b[39m)])\n\u001b[1;32m      7\u001b[0m     state \u001b[39m=\u001b[39m state \u001b[39m/\u001b[39m np\u001b[39m.\u001b[39mlinalg\u001b[39m.\u001b[39mnorm(state)\n\u001b[1;32m      8\u001b[0m     qml\u001b[39m.\u001b[39mMottonenStatePreparation(state_vector\u001b[39m=\u001b[39mstate, wires\u001b[39m=\u001b[39m\u001b[39m0\u001b[39m)\n",
      "File \u001b[0;32m~/opt/miniconda3/envs/cpen400q/lib/python3.11/site-packages/pennylane/numpy/wrapper.py:117\u001b[0m, in \u001b[0;36mtensor_wrapper.<locals>._wrapped\u001b[0;34m(*args, **kwargs)\u001b[0m\n\u001b[1;32m    114\u001b[0m         tensor_kwargs[\u001b[39m\"\u001b[39m\u001b[39mrequires_grad\u001b[39m\u001b[39m\"\u001b[39m] \u001b[39m=\u001b[39m _np\u001b[39m.\u001b[39many([i\u001b[39m.\u001b[39mrequires_grad \u001b[39mfor\u001b[39;00m i \u001b[39min\u001b[39;00m tensor_args])\n\u001b[1;32m    116\u001b[0m \u001b[39m# evaluate the original object\u001b[39;00m\n\u001b[0;32m--> 117\u001b[0m res \u001b[39m=\u001b[39m obj(\u001b[39m*\u001b[39;49margs, \u001b[39m*\u001b[39;49m\u001b[39m*\u001b[39;49mkwargs)\n\u001b[1;32m    119\u001b[0m \u001b[39mif\u001b[39;00m \u001b[39misinstance\u001b[39m(res, _np\u001b[39m.\u001b[39mndarray):\n\u001b[1;32m    120\u001b[0m     \u001b[39m# only if the output of the object is a ndarray,\u001b[39;00m\n\u001b[1;32m    121\u001b[0m     \u001b[39m# then convert to a PennyLane tensor\u001b[39;00m\n\u001b[1;32m    122\u001b[0m     res \u001b[39m=\u001b[39m tensor(res, \u001b[39m*\u001b[39m\u001b[39m*\u001b[39mtensor_kwargs)\n",
      "File \u001b[0;32m~/opt/miniconda3/envs/cpen400q/lib/python3.11/site-packages/autograd/tracer.py:48\u001b[0m, in \u001b[0;36mprimitive.<locals>.f_wrapped\u001b[0;34m(*args, **kwargs)\u001b[0m\n\u001b[1;32m     46\u001b[0m     \u001b[39mreturn\u001b[39;00m new_box(ans, trace, node)\n\u001b[1;32m     47\u001b[0m \u001b[39melse\u001b[39;00m:\n\u001b[0;32m---> 48\u001b[0m     \u001b[39mreturn\u001b[39;00m f_raw(\u001b[39m*\u001b[39;49margs, \u001b[39m*\u001b[39;49m\u001b[39m*\u001b[39;49mkwargs)\n",
      "\u001b[0;31mTypeError\u001b[0m: exp() takes from 1 to 2 positional arguments but 0 were given"
     ]
    }
   ],
   "source": [
    "dev = qml.device(\"default.qubit\", wires=1, shots=None)\n",
    "\n",
    "# YOUR CODE HERE\n",
    "@qml.qnode(dev)\n",
    "def fn1():\n",
    "    state = np.array([1/np.sqrt(3) * np.exp(), np.sqrt(2)/np.sqrt(3)])\n",
    "    state = state / np.linalg.norm(state)\n",
    "    qml.MottonenStatePreparation(state_vector=state, wires=0)\n",
    "    A = np.matrix([[-2, 5j], [-5j, -4]])\n",
    "    return qml.expval(qml.Hermitian(A, wires=0))\n",
    "\n",
    "fn1()"
   ]
  },
  {
   "cell_type": "code",
   "execution_count": null,
   "metadata": {},
   "outputs": [],
   "source": []
  }
 ],
 "metadata": {
  "kernelspec": {
   "display_name": "cpen400q",
   "language": "python",
   "name": "python3"
  },
  "language_info": {
   "codemirror_mode": {
    "name": "ipython",
    "version": 3
   },
   "file_extension": ".py",
   "mimetype": "text/x-python",
   "name": "python",
   "nbconvert_exporter": "python",
   "pygments_lexer": "ipython3",
   "version": "3.11.0"
  },
  "orig_nbformat": 4,
  "vscode": {
   "interpreter": {
    "hash": "635ed6af5a464993c12eb65282051ed9764a82bc104a339084de04a398e679ff"
   }
  }
 },
 "nbformat": 4,
 "nbformat_minor": 2
}

{
 "cells": [
  {
   "cell_type": "markdown",
   "id": "1ecc2235-07c3-4098-8bb1-cd170f86e5c5",
   "metadata": {},
   "source": [
    "# Demos: Lecture 14"
   ]
  },
  {
   "cell_type": "code",
   "execution_count": 1,
   "id": "f7686aae-1335-4c15-8153-2ff494c30043",
   "metadata": {},
   "outputs": [],
   "source": [
    "import pennylane as qml\n",
    "from pennylane import numpy as np\n",
    "import matplotlib.pyplot as plt"
   ]
  },
  {
   "cell_type": "markdown",
   "id": "4e45addf-ec60-4f8e-93d6-23505cc9d2ae",
   "metadata": {},
   "source": [
    "## Demo 1: Variational eigensolver"
   ]
  },
  {
   "cell_type": "markdown",
   "id": "65172813-79c2-44c0-8941-c196106cc778",
   "metadata": {},
   "source": [
    "Below we construct the two-qubit Hamiltonian \n",
    "\n",
    "$$\n",
    "\\hat{H} = 0.5 Z \\otimes Z + 1.5 X \\otimes X\n",
    "$$\n",
    "\n",
    "and use the VQE to find its ground state energy."
   ]
  },
  {
   "cell_type": "code",
   "execution_count": 2,
   "id": "9e19ff34-8660-436f-92b0-78fa97992aae",
   "metadata": {},
   "outputs": [],
   "source": [
    "coeffs = [0.5, 1.5]\n",
    "ops = [qml.PauliZ(0) @ qml.PauliZ(1), qml.PauliX(0) @ qml.PauliX(1)]\n",
    "\n",
    "H = qml.Hamiltonian(coeffs, ops)"
   ]
  },
  {
   "cell_type": "code",
   "execution_count": 3,
   "id": "f5ffcf7a-6d1e-481a-b0bc-5c1325aba43c",
   "metadata": {},
   "outputs": [
    {
     "name": "stdout",
     "output_type": "stream",
     "text": [
      "  (0.5) [Z0 Z1]\n",
      "+ (1.5) [X0 X1]\n"
     ]
    }
   ],
   "source": [
    "print(H)"
   ]
  },
  {
   "cell_type": "code",
   "execution_count": 6,
   "id": "88b06c98-6de3-4403-8e25-da85d7681b54",
   "metadata": {},
   "outputs": [],
   "source": [
    "dev = qml.device('default.qubit', wires=2)\n",
    "\n",
    "@qml.qnode(dev)\n",
    "def ansatz(theta):\n",
    "    # a|01> + b|10>\n",
    "    \n",
    "    # |00>\n",
    "    # RY(θ)|00> = cos(θ/2)|00> + sin(θ/2)|10>\n",
    "    qml.RY(theta, wires=0)\n",
    "    \n",
    "    # CNOT(control on 0)  \n",
    "    #  OR\n",
    "    # X RY(θ)|00> = cos(θ/2)|01> + sin(θ/2)|11>\n",
    "    qml.PauliX(wires=1)\n",
    "    qml.CNOT(wires=[0, 1])\n",
    "    \n",
    "    #return qml.state()\n",
    "    return qml.expval(H)"
   ]
  },
  {
   "cell_type": "code",
   "execution_count": 7,
   "id": "4034889c-3899-4493-a886-20e40ecd7454",
   "metadata": {},
   "outputs": [
    {
     "name": "stderr",
     "output_type": "stream",
     "text": [
      "/home/olivia/Code/pennylane/pennylane/qnode.py:823: UserWarning: The device was switched during the call of the QNode, to avoid this behaviour definean interface argument instead of auto.\n",
      "  warnings.warn(\n"
     ]
    }
   ],
   "source": [
    "# Run VQE\n",
    "opt = qml.GradientDescentOptimizer()\n",
    "\n",
    "param = np.array(0.0, requires_grad=True)\n",
    "\n",
    "energies = []\n",
    "\n",
    "for _ in range(200):\n",
    "    param, _energy = opt.step_and_cost(ansatz, param)\n",
    "    energies.append(_energy)"
   ]
  },
  {
   "cell_type": "code",
   "execution_count": 8,
   "id": "eb3b3200-c7eb-4cf7-910a-6817bf684233",
   "metadata": {},
   "outputs": [
    {
     "data": {
      "text/plain": [
       "[<matplotlib.lines.Line2D at 0x7f6cc4467280>]"
      ]
     },
     "execution_count": 8,
     "metadata": {},
     "output_type": "execute_result"
    },
    {
     "data": {
      "image/png": "[encoded data removed]",
      "text/plain": [
       "<Figure size 432x288 with 1 Axes>"
      ]
     },
     "metadata": {
      "needs_background": "light"
     },
     "output_type": "display_data"
    }
   ],
   "source": [
    "plt.plot(energies)"
   ]
  },
  {
   "cell_type": "code",
   "execution_count": 9,
   "id": "e654ee88-c45e-4640-8874-0394f69ce6ee",
   "metadata": {},
   "outputs": [
    {
     "data": {
      "text/plain": [
       "tensor(-1.99283622, requires_grad=True)"
      ]
     },
     "execution_count": 9,
     "metadata": {},
     "output_type": "execute_result"
    }
   ],
   "source": [
    "ansatz(param)"
   ]
  },
  {
   "cell_type": "markdown",
   "id": "ced90c99-cda8-41fa-9b8e-f3d08ed0b358",
   "metadata": {},
   "source": [
    "## Demo 2: VQE for the deuteron"
   ]
  },
  {
   "cell_type": "markdown",
   "id": "d4141ec8-ff32-4448-9813-552b78ea2408",
   "metadata": {},
   "source": [
    "Below is a Hamiltonian for a _real_ physical system: a deuteron. The ground state of this Hamiltonian is a linear combination of 4 basis states with *real-valued* coefficients, i.e.,\n",
    "\n",
    "$$\n",
    "|\\psi_g\\rangle = a |1000\\rangle + b|0100\\rangle + c |0010\\rangle + d |0001\\rangle\n",
    "$$\n",
    "\n",
    "**Exercise**: Implement the VQE to find the ground state energy of this Hamiltonian.\n",
    "\n",
    "*Hint*: To create a suitable ansatz circuit, try generalizing the one from the previous demo."
   ]
  },
  {
   "cell_type": "code",
   "execution_count": 3,
   "id": "9cfb6974-922e-4297-9766-513c326bf103",
   "metadata": {},
   "outputs": [],
   "source": [
    "coeffs = [28.657, 0.218, -6.125, -9.625, -13.125, -2.143, -3.913, -5.671, -2.143, -3.913, -5.671]\n",
    "\n",
    "ops = [\n",
    "    qml.Identity(0), \n",
    "    qml.PauliZ(0),\n",
    "    qml.PauliZ(1),\n",
    "    qml.PauliZ(2),\n",
    "    qml.PauliZ(3),\n",
    "    qml.PauliX(0) @ qml.PauliX(1),\n",
    "    qml.PauliX(1) @ qml.PauliX(2),\n",
    "    qml.PauliX(2) @ qml.PauliX(3),\n",
    "    qml.PauliY(0) @ qml.PauliY(1),\n",
    "    qml.PauliY(1) @ qml.PauliY(2),\n",
    "    qml.PauliY(2) @ qml.PauliY(3)\n",
    "]\n",
    "\n",
    "H = qml.Hamiltonian(coeffs, ops)"
   ]
  },
  {
   "cell_type": "code",
   "execution_count": null,
   "id": "2818f0df-a7df-4456-bcf0-c08fff5f42ba",
   "metadata": {},
   "outputs": [],
   "source": [
    "dev = qml.device('default.qubit', wires=4)\n",
    "\n",
    "@qml.qnode(dev)\n",
    "def ansatz(theta):\n",
    "    # We will go over the solution on Monday!\n",
    "    \n",
    "    return qml.expval(H)"
   ]
  },
  {
   "cell_type": "code",
   "execution_count": null,
   "id": "42d9a80b-bbf2-4257-b1c5-9eaf9fd9a670",
   "metadata": {},
   "outputs": [],
   "source": [
    "# Run VQE\n",
    "opt = qml.GradientDescentOptimizer()\n",
    "\n",
    "param = np.array(0.0, requires_grad=True)\n",
    "\n",
    "energies = []\n",
    "\n",
    "for _ in range(200):\n",
    "    param, _energy = opt.step_and_cost(ansatz, param)\n",
    "    energies.append(_energy)"
   ]
  }
 ],
 "metadata": {
  "kernelspec": {
   "display_name": "Python 3 (ipykernel)",
   "language": "python",
   "name": "python3"
  },
  "language_info": {
   "codemirror_mode": {
    "name": "ipython",
    "version": 3
   },
   "file_extension": ".py",
   "mimetype": "text/x-python",
   "name": "python",
   "nbconvert_exporter": "python",
   "pygments_lexer": "ipython3",
   "version": "3.9.12"
  }
 },
 "nbformat": 4,
 "nbformat_minor": 5
}

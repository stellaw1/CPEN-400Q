{
 "cells": [
  {
   "cell_type": "markdown",
   "metadata": {},
   "source": [
    "# Demos: Lecture 12"
   ]
  },
  {
   "cell_type": "code",
   "execution_count": null,
   "metadata": {},
   "outputs": [],
   "source": [
    "import pennylane as qml\n",
    "import numpy as np\n",
    "\n",
    "from lecture12_helpers import *"
   ]
  },
  {
   "cell_type": "markdown",
   "metadata": {
    "tags": []
   },
   "source": [
    "## Demo 1: Order finding"
   ]
  },
  {
   "cell_type": "code",
   "execution_count": null,
   "metadata": {},
   "outputs": [],
   "source": [
    "N = 13\n",
    "a = 5"
   ]
  },
  {
   "cell_type": "code",
   "execution_count": null,
   "metadata": {},
   "outputs": [],
   "source": [
    "for exp in range(1, N):\n",
    "    if (a ** exp) % N == 1:\n",
    "        print(f\"The order of {a} is {exp}\")\n",
    "        break"
   ]
  },
  {
   "cell_type": "code",
   "execution_count": null,
   "metadata": {},
   "outputs": [],
   "source": [
    "def run_order_finding(a, N):\n",
    "    U_Na = get_U_Na(a, N)\n",
    "    \n",
    "    num_estimation_qubits = 10\n",
    "    num_target_qubits = int(np.log2(len(U_Na)))\n",
    "    \n",
    "    estimation_wires = range(num_estimation_qubits)\n",
    "    target_wires = range(num_estimation_qubits, num_estimation_qubits + num_target_qubits)\n",
    "    \n",
    "    dev = qml.device('default.qubit', wires=num_estimation_qubits+num_target_qubits, shots=1)\n",
    "    \n",
    "    @qml.qnode(dev)\n",
    "    def find_order():\n",
    "        \n",
    "        return\n",
    "\n",
    "    possible_r = []\n",
    "    \n",
    "    for _ in range(10):\n",
    "        sample = find_order()\n",
    "        phase = fractional_binary_to_float(sample)\n",
    "        est_r = phase_to_order(phase, N)\n",
    "        possible_r.append(est_r)\n",
    "        \n",
    "    return max(possible_r)"
   ]
  },
  {
   "cell_type": "markdown",
   "metadata": {},
   "source": [
    "## Demo 2: Shor's algorithm"
   ]
  },
  {
   "cell_type": "markdown",
   "metadata": {},
   "source": [
    "<img src=\"fig/shor-flowchart.jpeg\" width=\"300px\">"
   ]
  },
  {
   "cell_type": "code",
   "execution_count": null,
   "metadata": {},
   "outputs": [],
   "source": [
    "def shors_algorithm(N):\n",
    "    \n",
    "    return"
   ]
  },
  {
   "cell_type": "code",
   "execution_count": null,
   "metadata": {},
   "outputs": [],
   "source": [
    "N = 187\n",
    "\n",
    "for _ in range(10):\n",
    "    p, q = shors_algorithm(N)\n",
    "    if p * q == N:\n",
    "        print(f\"p={p}\\nq={q}\")\n",
    "        break"
   ]
  }
 ],
 "metadata": {
  "kernelspec": {
   "display_name": "Python 3 (ipykernel)",
   "language": "python",
   "name": "python3"
  },
  "language_info": {
   "codemirror_mode": {
    "name": "ipython",
    "version": 3
   },
   "file_extension": ".py",
   "mimetype": "text/x-python",
   "name": "python",
   "nbconvert_exporter": "python",
   "pygments_lexer": "ipython3",
   "version": "3.9.7"
  }
 },
 "nbformat": 4,
 "nbformat_minor": 4
}

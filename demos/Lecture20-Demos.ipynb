{
 "cells": [
  {
   "cell_type": "markdown",
   "id": "2944e1a3-aae3-40ed-ad15-b9002c1aac81",
   "metadata": {},
   "source": [
    "# Demos: Lecture 20"
   ]
  },
  {
   "cell_type": "code",
   "execution_count": 1,
   "id": "bf787988-6a84-436f-98ed-43e3c0d186b4",
   "metadata": {},
   "outputs": [],
   "source": [
    "import pennylane as qml\n",
    "import numpy as np"
   ]
  },
  {
   "cell_type": "markdown",
   "id": "6160520c-3db8-467a-a6bc-3fd8e1ce9d54",
   "metadata": {},
   "source": [
    "## Demo 1: Deutsch's algorithm"
   ]
  },
  {
   "cell_type": "markdown",
   "id": "e27598eb-14fb-4988-b463-64f2e184540f",
   "metadata": {},
   "source": [
    "\n",
    "<img src=\"fig/deutsch_2.png\">"
   ]
  },
  {
   "cell_type": "code",
   "execution_count": 2,
   "id": "5aafd8d0-f2f1-40f3-8094-4d8e7f269d6e",
   "metadata": {},
   "outputs": [],
   "source": [
    "def oracle(func=1):\n",
    "    # 1: f(0) = f(1) = 0\n",
    "    # Do nothing!\n",
    "    \n",
    "    # 2: f(0) = f(1) = 1\n",
    "    if func == 2:\n",
    "        qml.CNOT(wires=[0, 1])\n",
    "        qml.PauliX(wires=0)\n",
    "        qml.CNOT(wires=[0, 1])\n",
    "        qml.PauliX(wires=0)\n",
    "        \n",
    "    # 3: f(0) = 0, f(1) = 1\n",
    "    if func == 3:\n",
    "        qml.CNOT(wires=[0, 1])\n",
    "        \n",
    "    # 4: f(0) = 1, f(1) = 0\n",
    "    if func == 4:\n",
    "        qml.PauliX(wires=0)\n",
    "        qml.CNOT(wires=[0, 1])\n",
    "        qml.PauliX(wires=0)"
   ]
  },
  {
   "cell_type": "code",
   "execution_count": 3,
   "id": "682fe38b-3cee-4d5f-b34b-29fa9845fce4",
   "metadata": {},
   "outputs": [],
   "source": [
    "dev = qml.device('default.qubit', wires=2, shots=1)\n",
    "\n",
    "@qml.qnode(dev)\n",
    "def deutsch_algorithm(func=None):\n",
    "    qml.PauliX(wires=1)\n",
    "    qml.Hadamard(wires=1)\n",
    "    qml.Hadamard(wires=0)\n",
    "    \n",
    "    oracle(func)\n",
    "    \n",
    "    qml.Hadamard(wires=0)\n",
    "    \n",
    "    return qml.sample(wires=0)"
   ]
  },
  {
   "cell_type": "code",
   "execution_count": 8,
   "id": "3699835c-7ee7-4bad-84b4-dd5c05755b49",
   "metadata": {},
   "outputs": [
    {
     "data": {
      "text/plain": [
       "tensor(0, requires_grad=True)"
      ]
     },
     "execution_count": 8,
     "metadata": {},
     "output_type": "execute_result"
    }
   ],
   "source": [
    "deutsch_algorithm(1)"
   ]
  },
  {
   "cell_type": "code",
   "execution_count": 10,
   "id": "a328497f-d8da-4480-b35c-2552e9c6e706",
   "metadata": {},
   "outputs": [
    {
     "data": {
      "text/plain": [
       "tensor(0, requires_grad=True)"
      ]
     },
     "execution_count": 10,
     "metadata": {},
     "output_type": "execute_result"
    }
   ],
   "source": [
    "deutsch_algorithm(2)"
   ]
  },
  {
   "cell_type": "code",
   "execution_count": 11,
   "id": "a11f439d-0897-4333-ab02-0727550ae5d8",
   "metadata": {},
   "outputs": [
    {
     "data": {
      "text/plain": [
       "tensor(1, requires_grad=True)"
      ]
     },
     "execution_count": 11,
     "metadata": {},
     "output_type": "execute_result"
    }
   ],
   "source": [
    "deutsch_algorithm(3)"
   ]
  },
  {
   "cell_type": "code",
   "execution_count": 12,
   "id": "ce56d081-d4f9-4de4-8931-ea0c464e0f15",
   "metadata": {},
   "outputs": [
    {
     "data": {
      "text/plain": [
       "tensor(1, requires_grad=True)"
      ]
     },
     "execution_count": 12,
     "metadata": {},
     "output_type": "execute_result"
    }
   ],
   "source": [
    "deutsch_algorithm(4)"
   ]
  },
  {
   "cell_type": "code",
   "execution_count": null,
   "id": "fa3f13c6-7ce2-48e4-b6c2-1781833d6130",
   "metadata": {},
   "outputs": [],
   "source": []
  }
 ],
 "metadata": {
  "kernelspec": {
   "display_name": "Python 3 (ipykernel)",
   "language": "python",
   "name": "python3"
  },
  "language_info": {
   "codemirror_mode": {
    "name": "ipython",
    "version": 3
   },
   "file_extension": ".py",
   "mimetype": "text/x-python",
   "name": "python",
   "nbconvert_exporter": "python",
   "pygments_lexer": "ipython3",
   "version": "3.9.12"
  }
 },
 "nbformat": 4,
 "nbformat_minor": 5
}

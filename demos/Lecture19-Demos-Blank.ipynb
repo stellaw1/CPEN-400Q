{
 "cells": [
  {
   "cell_type": "markdown",
   "id": "e530df96-e795-4dba-86ff-7f969d436c0f",
   "metadata": {},
   "source": [
    "# Demos: Lecture 19"
   ]
  },
  {
   "cell_type": "code",
   "execution_count": null,
   "id": "4cb1b2ce-b9fe-4798-be91-180b3456d1ba",
   "metadata": {},
   "outputs": [],
   "source": [
    "import pennylane as qml\n",
    "from pennylane import numpy as np\n",
    "import matplotlib.pyplot as plt"
   ]
  },
  {
   "cell_type": "markdown",
   "id": "cffede4b-f5ce-4efa-86aa-a0277cbda643",
   "metadata": {},
   "source": [
    "## Demo 1: depolarizing noise"
   ]
  },
  {
   "cell_type": "code",
   "execution_count": null,
   "id": "d9939e5d-2b41-4ad9-a539-c2bdcb03ffe2",
   "metadata": {},
   "outputs": [],
   "source": [
    "def prepare_state():\n",
    "    qml.RY(2 * np.pi/3, wires=0)\n"
   ]
  },
  {
   "cell_type": "code",
   "execution_count": null,
   "id": "d73c8049-6dab-4f37-9d75-d61574c74ac6",
   "metadata": {},
   "outputs": [],
   "source": []
  },
  {
   "cell_type": "markdown",
   "id": "9396aa51-6f6a-44c2-901b-4f3a1327c3dc",
   "metadata": {},
   "source": [
    "## Demo 2: simulated noisy VQE"
   ]
  },
  {
   "cell_type": "code",
   "execution_count": null,
   "id": "9cfb6974-922e-4297-9766-513c326bf103",
   "metadata": {},
   "outputs": [],
   "source": [
    "coeffs = [28.657, 0.218, -6.125, -9.625, -13.125, -2.143, -3.913, -5.671, -2.143, -3.913, -5.671]\n",
    "\n",
    "ops = [\n",
    "    qml.Identity(0), \n",
    "    qml.PauliZ(0),\n",
    "    qml.PauliZ(1),\n",
    "    qml.PauliZ(2),\n",
    "    qml.PauliZ(3),\n",
    "    qml.PauliX(0) @ qml.PauliX(1),\n",
    "    qml.PauliX(1) @ qml.PauliX(2),\n",
    "    qml.PauliX(2) @ qml.PauliX(3),\n",
    "    qml.PauliY(0) @ qml.PauliY(1),\n",
    "    qml.PauliY(1) @ qml.PauliY(2),\n",
    "    qml.PauliY(2) @ qml.PauliY(3)\n",
    "]\n",
    "\n",
    "H = qml.Hamiltonian(coeffs, ops, grouping_type=\"qwc\")"
   ]
  },
  {
   "cell_type": "code",
   "execution_count": null,
   "id": "ed0a38a5-30e7-4aea-ab61-717b7de5ca24",
   "metadata": {},
   "outputs": [],
   "source": [
    "def ansatz(params):\n",
    "    qml.PauliX(wires=0)\n",
    "    for wire in range(3):\n",
    "        qml.CRY(params[wire], wires=[wire, wire+1])\n",
    "        qml.CNOT(wires=[wire+1, wire])\n",
    "    return qml.expval(H)"
   ]
  },
  {
   "cell_type": "code",
   "execution_count": null,
   "id": "c9e47008-f079-4346-b93c-e8cc0933a0ce",
   "metadata": {},
   "outputs": [],
   "source": [
    "dev = qml.device(\"default.qubit\", wires=4, shots=10000)"
   ]
  },
  {
   "cell_type": "code",
   "execution_count": null,
   "id": "4afe0fe7-a819-4392-94f8-c5d4203307c4",
   "metadata": {},
   "outputs": [],
   "source": [
    "from qiskit.test.mock import FakeManila\n",
    "from qiskit.providers.aer import QasmSimulator\n",
    "from qiskit.providers.aer.noise import NoiseModel\n",
    "from qiskit.transpiler import CouplingMap\n",
    "\n",
    "# Set up noisy fake Manila device\n",
    "processor_name = \"Manila\"\n",
    "device = QasmSimulator.from_backend(FakeManila())\n",
    "noise_model = NoiseModel.from_backend(device, readout_error=False)\n",
    "dev_noisy = qml.device(\n",
    "    \"qiskit.aer\", backend=\"qasm_simulator\", wires=5, shots=10000, noise_model=noise_model\n",
    ")\n",
    "\n",
    "coupling_map = CouplingMap([(0, 1), (1, 0), (1, 2), (2, 1), (2, 3), (3, 2), (3, 4), (4, 3)])\n",
    "initial_layout = [0, 1, 2, 3, 4]\n",
    "\n",
    "dev_noisy.set_transpile_args(\n",
    "    **{\"optimization_level\": 0, \"initial_layout\": initial_layout, \"coupling_map\": coupling_map}\n",
    ")"
   ]
  },
  {
   "cell_type": "code",
   "execution_count": null,
   "id": "f9bf8ed9-4480-4c5f-b4e8-ef4e4db86a6e",
   "metadata": {},
   "outputs": [],
   "source": [
    "normal_qnode = qml.QNode(ansatz, dev, diff_method=\"parameter-shift\")\n",
    "noisy_qnode = qml.QNode(ansatz, dev_noisy, diff_method=\"parameter-shift\")"
   ]
  },
  {
   "cell_type": "code",
   "execution_count": null,
   "id": "48099eb6-0bef-4619-a76e-49bee67d789f",
   "metadata": {},
   "outputs": [],
   "source": [
    "normal_opt = qml.GradientDescentOptimizer(stepsize=0.05)\n",
    "noisy_opt = qml.GradientDescentOptimizer(stepsize=0.05)\n",
    "\n",
    "normal_params = np.zeros(3, requires_grad=True)\n",
    "noisy_params = np.zeros(3, requires_grad=True)\n",
    "\n",
    "normal_energies = []\n",
    "noisy_energies = []\n",
    "\n",
    "for idx in range(100):\n",
    "    normal_params, normal_cost = normal_opt.step_and_cost(normal_qnode, normal_params)\n",
    "    normal_energies.append(normal_cost)\n",
    "    \n",
    "    noisy_params, noisy_cost = noisy_opt.step_and_cost(noisy_qnode, noisy_params)\n",
    "    noisy_energies.append(noisy_cost)\n",
    "    \n",
    "    if idx % 10 == 0:\n",
    "        print(idx)"
   ]
  },
  {
   "cell_type": "code",
   "execution_count": null,
   "id": "d70e566a-01da-4fe7-9858-e130d83a46f8",
   "metadata": {},
   "outputs": [],
   "source": [
    "plt.figure(figsize=(10, 7))\n",
    "plt.scatter(range(100), normal_energies, label=\"Shot noise\")\n",
    "plt.scatter(range(100), noisy_energies, label=\"Hardware noise\")\n",
    "plt.axhline(y=-2.143, linestyle=\"--\", label=\"True value\", color=\"black\")\n",
    "plt.ylabel(\"Iteration\", fontsize=16)\n",
    "plt.yticks(fontsize=12)\n",
    "plt.xlabel(\"Energy\", fontsize=16)\n",
    "plt.xticks(fontsize=12)\n",
    "plt.legend(fontsize=16)"
   ]
  },
  {
   "cell_type": "code",
   "execution_count": null,
   "id": "eb09d1e9-0c2c-4418-a2ca-df8b5ad68c9b",
   "metadata": {},
   "outputs": [],
   "source": []
  }
 ],
 "metadata": {
  "kernelspec": {
   "display_name": "Python 3 (ipykernel)",
   "language": "python",
   "name": "python3"
  },
  "language_info": {
   "codemirror_mode": {
    "name": "ipython",
    "version": 3
   },
   "file_extension": ".py",
   "mimetype": "text/x-python",
   "name": "python",
   "nbconvert_exporter": "python",
   "pygments_lexer": "ipython3",
   "version": "3.9.12"
  }
 },
 "nbformat": 4,
 "nbformat_minor": 5
}

{
 "cells": [
  {
   "cell_type": "markdown",
   "id": "1ecc2235-07c3-4098-8bb1-cd170f86e5c5",
   "metadata": {},
   "source": [
    "# Demos: Lecture 15"
   ]
  },
  {
   "cell_type": "code",
   "execution_count": 1,
   "id": "f7686aae-1335-4c15-8153-2ff494c30043",
   "metadata": {},
   "outputs": [],
   "source": [
    "import pennylane as qml\n",
    "from pennylane import numpy as np\n",
    "import matplotlib.pyplot as plt"
   ]
  },
  {
   "cell_type": "markdown",
   "id": "ced90c99-cda8-41fa-9b8e-f3d08ed0b358",
   "metadata": {},
   "source": [
    "## Demo 1: VQE for the deuteron (solution)"
   ]
  },
  {
   "cell_type": "markdown",
   "id": "d4141ec8-ff32-4448-9813-552b78ea2408",
   "metadata": {},
   "source": [
    "Below is a Hamiltonian for a _real_ physical system: a deuteron. The ground state of this Hamiltonian is a linear combination of 4 basis states with *real-valued* coefficients, i.e.,\n",
    "\n",
    "$$\n",
    "|\\psi_g\\rangle = a |1000\\rangle + b|0100\\rangle + c |0010\\rangle + d |0001\\rangle\n",
    "$$\n",
    "\n",
    "**Exercise**: Implement the VQE to find the ground state energy of this Hamiltonian.\n",
    "\n",
    "*Hint*: To create a suitable ansatz circuit, try generalizing the one from the previous demo."
   ]
  },
  {
   "cell_type": "code",
   "execution_count": 2,
   "id": "9cfb6974-922e-4297-9766-513c326bf103",
   "metadata": {},
   "outputs": [],
   "source": [
    "coeffs = [28.657, 0.218, -6.125, -9.625, -13.125, -2.143, -3.913, -5.671, -2.143, -3.913, -5.671]\n",
    "\n",
    "ops = [\n",
    "    qml.Identity(0), \n",
    "    qml.PauliZ(0),\n",
    "    qml.PauliZ(1),\n",
    "    qml.PauliZ(2),\n",
    "    qml.PauliZ(3),\n",
    "    qml.PauliX(0) @ qml.PauliX(1),\n",
    "    qml.PauliX(1) @ qml.PauliX(2),\n",
    "    qml.PauliX(2) @ qml.PauliX(3),\n",
    "    qml.PauliY(0) @ qml.PauliY(1),\n",
    "    qml.PauliY(1) @ qml.PauliY(2),\n",
    "    qml.PauliY(2) @ qml.PauliY(3)\n",
    "]\n",
    "\n",
    "H = qml.Hamiltonian(coeffs, ops)"
   ]
  },
  {
   "cell_type": "code",
   "execution_count": 6,
   "id": "e371b4f6-0a4c-4090-9b17-c9fa15fe0a3d",
   "metadata": {},
   "outputs": [
    {
     "name": "stdout",
     "output_type": "stream",
     "text": [
      "  (-13.125) [Z3]\n",
      "+ (-9.625) [Z2]\n",
      "+ (-6.125) [Z1]\n",
      "+ (0.218) [Z0]\n",
      "+ (28.657) [I0]\n",
      "+ (-5.671) [X2 X3]\n",
      "+ (-5.671) [Y2 Y3]\n",
      "+ (-3.913) [X1 X2]\n",
      "+ (-3.913) [Y1 Y2]\n",
      "+ (-2.143) [X0 X1]\n",
      "+ (-2.143) [Y0 Y1]\n"
     ]
    }
   ],
   "source": [
    "print(H)"
   ]
  },
  {
   "cell_type": "code",
   "execution_count": 3,
   "id": "7261ccb7-13a0-49da-a5fe-15a5cb379d94",
   "metadata": {},
   "outputs": [],
   "source": [
    "dev = qml.device(\"default.qubit\", wires=4)\n",
    "\n",
    "@qml.qnode(dev)\n",
    "def ansatz(params):\n",
    "    # |0000> -> a|1000> + b|0100> + c|0010> + d|0001>\n",
    "    \n",
    "    # |0000> -> a|0000> + b|1000>\n",
    "    # X_0 |0000> -> |1000>\n",
    "    qml.PauliX(wires=0)\n",
    "    \n",
    "    # RY_1 |1000> -> a |1000> + b |1100>\n",
    "    # CNOT (RY_1) |1000> -> a|1000> + b|0100>\n",
    "    qml.RY(params[0], wires=1)\n",
    "    qml.CNOT(wires=[1, 0])\n",
    "    \n",
    "    # a|1000> + b|0100> -> a|1000> + b|0100> + c|0110>\n",
    "    qml.CRY(params[1], wires=[1, 2])\n",
    "    # a|1000> + b|0100> + c|0110> -> a|1000> + b|0100> + c|0010> \n",
    "    qml.CNOT(wires=[2, 1])\n",
    "    \n",
    "    # a|1000> + b|0100> + c|0010> -> a|1000> + b|0100> + c|0010> + d|0001>\n",
    "    qml.CRY(params[2], wires=[2, 3])\n",
    "    qml.CNOT(wires=[3, 2])\n",
    "    \n",
    "    return qml.expval(H)"
   ]
  },
  {
   "cell_type": "code",
   "execution_count": 5,
   "id": "4e46a177-cf73-4ff6-82f7-0860c762a7d4",
   "metadata": {},
   "outputs": [
    {
     "name": "stdout",
     "output_type": "stream",
     "text": [
      "0: ──X────────╭X───────────────────────────┤ ╭<𝓗>\n",
      "1: ──RY(0.10)─╰●─╭●────────╭X──────────────┤ ├<𝓗>\n",
      "2: ──────────────╰RY(0.20)─╰●─╭●────────╭X─┤ ├<𝓗>\n",
      "3: ───────────────────────────╰RY(0.30)─╰●─┤ ╰<𝓗>\n"
     ]
    }
   ],
   "source": [
    "print(qml.draw(ansatz)([0.1, 0.2, 0.3]))"
   ]
  },
  {
   "cell_type": "code",
   "execution_count": 12,
   "id": "a6925b64-726f-4290-b3a5-a43ddda30133",
   "metadata": {},
   "outputs": [],
   "source": [
    "opt = qml.GradientDescentOptimizer()\n",
    "\n",
    "n_its = 300\n",
    "params = np.random.uniform(size=3)\n",
    "energies = []\n",
    "\n",
    "for _ in range(n_its):\n",
    "    params, _energy = opt.step_and_cost(ansatz, params)\n",
    "    energies.append(_energy)"
   ]
  },
  {
   "cell_type": "code",
   "execution_count": 13,
   "id": "e4a25bdb-bf2f-4e00-a17c-35aeb86999d4",
   "metadata": {},
   "outputs": [
    {
     "data": {
      "text/plain": [
       "[<matplotlib.lines.Line2D at 0x7f90105faf40>]"
      ]
     },
     "execution_count": 13,
     "metadata": {},
     "output_type": "execute_result"
    },
    {
     "data": {
      "image/png": "[encoded data removed]",
      "text/plain": [
       "<Figure size 432x288 with 1 Axes>"
      ]
     },
     "metadata": {
      "needs_background": "light"
     },
     "output_type": "display_data"
    }
   ],
   "source": [
    "plt.plot(energies)"
   ]
  },
  {
   "cell_type": "code",
   "execution_count": 14,
   "id": "041633c9-8223-4a12-be4d-7da900df6544",
   "metadata": {},
   "outputs": [
    {
     "data": {
      "text/plain": [
       "array(-2.14263965)"
      ]
     },
     "execution_count": 14,
     "metadata": {},
     "output_type": "execute_result"
    }
   ],
   "source": [
    "energies[-1]"
   ]
  },
  {
   "cell_type": "code",
   "execution_count": 15,
   "id": "179c1418-737f-4fb7-8438-27015800fad1",
   "metadata": {},
   "outputs": [
    {
     "data": {
      "text/plain": [
       "tensor([0.83848692, 0.93224624, 0.79975062], requires_grad=True)"
      ]
     },
     "execution_count": 15,
     "metadata": {},
     "output_type": "execute_result"
    }
   ],
   "source": [
    "params"
   ]
  },
  {
   "cell_type": "code",
   "execution_count": 17,
   "id": "3fc80362-eeae-4760-a128-33d3b20cdda9",
   "metadata": {},
   "outputs": [],
   "source": [
    "dev = qml.device(\"default.qubit\", wires=4)\n",
    "\n",
    "@qml.qnode(dev)\n",
    "def ansatz(params):\n",
    "    qml.PauliX(wires=0)\n",
    "    \n",
    "    qml.RY(params[0], wires=1)\n",
    "    qml.CNOT(wires=[1, 0])\n",
    "    \n",
    "    qml.CRY(params[1], wires=[1, 2])\n",
    "    qml.CNOT(wires=[2, 1])\n",
    "    \n",
    "    qml.CRY(params[2], wires=[2, 3])\n",
    "    qml.CNOT(wires=[3, 2])\n",
    "    \n",
    "    return qml.state()"
   ]
  },
  {
   "cell_type": "code",
   "execution_count": 18,
   "id": "58b94d08-7490-4d1a-9430-bfaf90d8688b",
   "metadata": {},
   "outputs": [
    {
     "name": "stderr",
     "output_type": "stream",
     "text": [
      "/home/olivia/Code/pennylane/pennylane/qnode.py:823: UserWarning: The device was switched during the call of the QNode, to avoid this behaviour definean interface argument instead of auto.\n",
      "  warnings.warn(\n"
     ]
    },
    {
     "data": {
      "text/plain": [
       "tensor([0.        +0.j, 0.07122222+0.j, 0.16851496+0.j, 0.        +0.j,\n",
       "        0.3636423 +0.j, 0.        +0.j, 0.        +0.j, 0.        +0.j,\n",
       "        0.91339717+0.j, 0.        +0.j, 0.        +0.j, 0.        +0.j,\n",
       "        0.        +0.j, 0.        +0.j, 0.        +0.j, 0.        +0.j], requires_grad=True)"
      ]
     },
     "execution_count": 18,
     "metadata": {},
     "output_type": "execute_result"
    }
   ],
   "source": [
    "ansatz(params)"
   ]
  },
  {
   "cell_type": "code",
   "execution_count": null,
   "id": "847acfbd-05ee-4c32-90dc-15632370ba52",
   "metadata": {},
   "outputs": [],
   "source": []
  }
 ],
 "metadata": {
  "kernelspec": {
   "display_name": "Python 3 (ipykernel)",
   "language": "python",
   "name": "python3"
  },
  "language_info": {
   "codemirror_mode": {
    "name": "ipython",
    "version": 3
   },
   "file_extension": ".py",
   "mimetype": "text/x-python",
   "name": "python",
   "nbconvert_exporter": "python",
   "pygments_lexer": "ipython3",
   "version": "3.9.12"
  }
 },
 "nbformat": 4,
 "nbformat_minor": 5
}

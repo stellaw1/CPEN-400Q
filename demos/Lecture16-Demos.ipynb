{
 "cells": [
  {
   "cell_type": "markdown",
   "id": "e530df96-e795-4dba-86ff-7f969d436c0f",
   "metadata": {},
   "source": [
    "# Demos: Lecture 16"
   ]
  },
  {
   "cell_type": "code",
   "execution_count": 1,
   "id": "2d8ba658-efef-45ca-8ea8-5ea6f12a6831",
   "metadata": {},
   "outputs": [],
   "source": [
    "import pennylane as qml\n",
    "from pennylane import numpy as np\n",
    "from itertools import chain\n",
    "\n",
    "from lecture16_helpers import *"
   ]
  },
  {
   "cell_type": "markdown",
   "id": "8bf34752-3f98-48b1-9874-18b9c03b180e",
   "metadata": {},
   "source": [
    "## Demo 1: QAOA from scratch"
   ]
  },
  {
   "cell_type": "markdown",
   "id": "dac83bdf-9626-4e46-b673-7b4eec020989",
   "metadata": {},
   "source": [
    "Our Hamiltonians:\n",
    "\n",
    "\n",
    "\\begin{equation*}\n",
    " \\hat{H}_{c} =  \\sum_{ij \\in E} \\left( Z_{i}  +  Z_{j} +\n",
    "   Z_{i} Z_{j}\\right) - 2 \\sum_{i \\in V}  Z_{i} \n",
    "\\end{equation*}\n",
    "\n",
    "\\begin{equation*}\n",
    "\\hat{H}_{m} = \\sum_{i} X_{i}\n",
    "\\end{equation*}"
   ]
  },
  {
   "cell_type": "markdown",
   "id": "551e8ef5-1712-4cd1-9af4-f3a3eac2993e",
   "metadata": {},
   "source": [
    "<img src=\"fig/qaoa.png\">"
   ]
  },
  {
   "cell_type": "code",
   "execution_count": 2,
   "id": "da04e833-d436-4fb0-9ba5-6549c8b7868a",
   "metadata": {},
   "outputs": [],
   "source": [
    "edges = [(0, 1), (1, 2), (2, 3), (3, 4), (4, 0), (1, 4)]\n",
    "\n",
    "edge_term_ops = [\n",
    "    [qml.PauliZ(i), qml.PauliZ(j), qml.PauliZ(i) @ qml.PauliZ(j)] \n",
    "    for (i, j) in edges\n",
    "]\n",
    "edge_term_ops = list(chain(*edge_term_ops))\n",
    "\n",
    "edge_term_coeffs = [1] * len(edge_term_ops)    \n",
    "\n",
    "vertex_term_ops = [qml.PauliZ(i) for i in range(5)]\n",
    "vertex_term_coeffs = [-2] * len(vertex_term_ops)"
   ]
  },
  {
   "cell_type": "code",
   "execution_count": 3,
   "id": "6956c3e7-d31c-4ee3-9872-c086747cd27f",
   "metadata": {},
   "outputs": [],
   "source": [
    "H_edge = qml.Hamiltonian(edge_term_coeffs, edge_term_ops)\n",
    "H_vertex = qml.Hamiltonian(vertex_term_coeffs, vertex_term_ops)\n",
    "H_cost = H_edge + H_vertex"
   ]
  },
  {
   "cell_type": "code",
   "execution_count": 4,
   "id": "07118e8a-d193-4934-8624-784f783a73c1",
   "metadata": {},
   "outputs": [
    {
     "name": "stdout",
     "output_type": "stream",
     "text": [
      "  (1) [Z1]\n",
      "+ (1) [Z4]\n",
      "+ (1) [Z0 Z1]\n",
      "+ (1) [Z1 Z2]\n",
      "+ (1) [Z2 Z3]\n",
      "+ (1) [Z3 Z4]\n",
      "+ (1) [Z4 Z0]\n",
      "+ (1) [Z1 Z4]\n"
     ]
    }
   ],
   "source": [
    "print(H_cost)"
   ]
  },
  {
   "cell_type": "code",
   "execution_count": 5,
   "id": "c4f38820-e6ba-4cf0-a259-b509fef3d45e",
   "metadata": {},
   "outputs": [
    {
     "data": {
      "image/png": "[encoded data removed]",
      "text/plain": [
       "<Figure size 432x288 with 1 Axes>"
      ]
     },
     "metadata": {},
     "output_type": "display_data"
    }
   ],
   "source": [
    "plot_graph(edges)"
   ]
  },
  {
   "cell_type": "code",
   "execution_count": 6,
   "id": "7043b543-291b-4cbb-b321-c4be1b333bef",
   "metadata": {},
   "outputs": [],
   "source": [
    "mixer_ops = [qml.PauliX(i) for i in range(5)]\n",
    "mixer_coeffs = [1] * len(mixer_ops)\n",
    "\n",
    "H_mixer = qml.Hamiltonian(mixer_coeffs, mixer_ops)"
   ]
  },
  {
   "cell_type": "code",
   "execution_count": 7,
   "id": "c64af5c0-a5bf-4baf-9438-c3c4382cd552",
   "metadata": {},
   "outputs": [
    {
     "name": "stdout",
     "output_type": "stream",
     "text": [
      "  (1) [X0]\n",
      "+ (1) [X1]\n",
      "+ (1) [X2]\n",
      "+ (1) [X3]\n",
      "+ (1) [X4]\n"
     ]
    }
   ],
   "source": [
    "print(H_mixer)"
   ]
  },
  {
   "cell_type": "code",
   "execution_count": 8,
   "id": "9db69efc-55e0-47b6-80cb-e2ec495b4dda",
   "metadata": {},
   "outputs": [],
   "source": [
    "dev = qml.device(\"default.qubit\", wires=5)\n",
    "\n",
    "n_layers = 5\n",
    "alpha_m = np.random.normal(size=n_layers)\n",
    "beta_c = np.random.normal(size=n_layers)"
   ]
  },
  {
   "cell_type": "code",
   "execution_count": 10,
   "id": "e2669ab5-be48-4556-96cf-c367138a6482",
   "metadata": {},
   "outputs": [],
   "source": [
    "def qaoa_circuit(alpha_m, beta_c):\n",
    "    for wire in range(5):\n",
    "        qml.Hadamard(wires=wire)\n",
    "        \n",
    "    for layer_idx in range(n_layers):\n",
    "        qml.ApproxTimeEvolution(H_cost, beta_c[layer_idx], 1)\n",
    "        qml.ApproxTimeEvolution(H_mixer, alpha_m[layer_idx], 1)\n",
    "        \n",
    "@qml.qnode(dev)\n",
    "def cost_function(alpha_m, beta_c):\n",
    "    qaoa_circuit(alpha_m, beta_c)\n",
    "    return qml.expval(H_cost)\n",
    "\n",
    "@qml.qnode(dev)\n",
    "def compute_probs(alpha_m, beta_c):\n",
    "    qaoa_circuit(alpha_m, beta_c)\n",
    "    return qml.probs(wires=range(5))"
   ]
  },
  {
   "cell_type": "code",
   "execution_count": 12,
   "id": "0e8fd481-3d2f-4cda-8eb3-68511393a130",
   "metadata": {},
   "outputs": [],
   "source": [
    "opt = qml.GradientDescentOptimizer(stepsize=0.01)\n",
    "\n",
    "n_its = 100\n",
    "\n",
    "for _ in range(n_its):\n",
    "    alpha_m, beta_c = opt.step(cost_function, alpha_m, beta_c)"
   ]
  },
  {
   "cell_type": "code",
   "execution_count": 13,
   "id": "a73d83b2-bcfc-4ed0-b0ad-0292464918e2",
   "metadata": {},
   "outputs": [
    {
     "data": {
      "text/plain": [
       "tensor([ 0.97715516, -0.64342276, -0.3845935 ,  0.26616884, -0.46609436], requires_grad=True)"
      ]
     },
     "execution_count": 13,
     "metadata": {},
     "output_type": "execute_result"
    }
   ],
   "source": [
    "alpha_m"
   ]
  },
  {
   "cell_type": "code",
   "execution_count": 14,
   "id": "caffec3f-a0dd-4290-9abf-96330ac7a340",
   "metadata": {},
   "outputs": [
    {
     "data": {
      "text/plain": [
       "tensor([6.25254991e-04, 1.12312651e-03, 8.18125452e-04, 6.23268305e-04,\n",
       "        8.18125452e-04, 1.35714654e-01, 1.06679763e-03, 1.43306928e-04,\n",
       "        1.12312651e-03, 1.55299948e-01, 1.35714654e-01, 1.44906440e-01,\n",
       "        6.23268305e-04, 1.44906440e-01, 1.43306928e-04, 6.58800441e-04,\n",
       "        8.88737508e-05, 6.76066456e-04, 2.28195933e-04, 1.36406640e-03,\n",
       "        2.28195933e-04, 1.30716390e-01, 4.87990941e-03, 8.50915661e-04,\n",
       "        6.76066456e-04, 1.46418527e-03, 1.30716390e-01, 7.58790914e-04,\n",
       "        1.36406640e-03, 7.58790914e-04, 8.50915661e-04, 6.95380245e-05], requires_grad=True)"
      ]
     },
     "execution_count": 14,
     "metadata": {},
     "output_type": "execute_result"
    }
   ],
   "source": [
    "compute_probs(alpha_m, beta_c)"
   ]
  },
  {
   "cell_type": "code",
   "execution_count": 15,
   "id": "8fed6857-6be4-4501-a53d-38dd4f6b9541",
   "metadata": {},
   "outputs": [
    {
     "data": {
      "image/png": "[encoded data removed]",
      "text/plain": [
       "<Figure size 576x576 with 1 Axes>"
      ]
     },
     "metadata": {
      "needs_background": "light"
     },
     "output_type": "display_data"
    }
   ],
   "source": [
    "plot_probs(compute_probs(alpha_m, beta_c))"
   ]
  },
  {
   "cell_type": "code",
   "execution_count": 19,
   "id": "497307f5-c67a-42ce-90af-50d218a74d6c",
   "metadata": {},
   "outputs": [
    {
     "data": {
      "image/png": "[encoded data removed]",
      "text/plain": [
       "<Figure size 432x288 with 1 Axes>"
      ]
     },
     "metadata": {},
     "output_type": "display_data"
    }
   ],
   "source": [
    "plot_graph(edges, solution_string=\"10101\")"
   ]
  },
  {
   "cell_type": "code",
   "execution_count": null,
   "id": "033bf229-eaa9-4c2d-b938-fa110bd321d5",
   "metadata": {},
   "outputs": [],
   "source": []
  }
 ],
 "metadata": {
  "kernelspec": {
   "display_name": "Python 3 (ipykernel)",
   "language": "python",
   "name": "python3"
  },
  "language_info": {
   "codemirror_mode": {
    "name": "ipython",
    "version": 3
   },
   "file_extension": ".py",
   "mimetype": "text/x-python",
   "name": "python",
   "nbconvert_exporter": "python",
   "pygments_lexer": "ipython3",
   "version": "3.9.12"
  }
 },
 "nbformat": 4,
 "nbformat_minor": 5
}

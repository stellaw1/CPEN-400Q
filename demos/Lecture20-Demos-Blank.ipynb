{
 "cells": [
  {
   "cell_type": "markdown",
   "id": "2944e1a3-aae3-40ed-ad15-b9002c1aac81",
   "metadata": {},
   "source": [
    "# Demos: Lecture 20"
   ]
  },
  {
   "cell_type": "code",
   "execution_count": null,
   "id": "bf787988-6a84-436f-98ed-43e3c0d186b4",
   "metadata": {},
   "outputs": [],
   "source": [
    "import pennylane as qml\n",
    "import numpy as np"
   ]
  },
  {
   "cell_type": "markdown",
   "id": "6160520c-3db8-467a-a6bc-3fd8e1ce9d54",
   "metadata": {},
   "source": [
    "## Demo 1: Deutsch's algorithm"
   ]
  },
  {
   "cell_type": "markdown",
   "id": "e27598eb-14fb-4988-b463-64f2e184540f",
   "metadata": {},
   "source": [
    "\n",
    "<img src=\"fig/deutsch_2.png\">"
   ]
  },
  {
   "cell_type": "code",
   "execution_count": null,
   "id": "5aafd8d0-f2f1-40f3-8094-4d8e7f269d6e",
   "metadata": {},
   "outputs": [],
   "source": [
    "def oracle(func=1):\n",
    "    # 1: f(0) = f(1) = 0\n",
    "    # Do nothing!\n",
    "    \n",
    "    # 2: f(0) = f(1) = 1\n",
    "    if func == 2:\n",
    "        qml.CNOT(wires=[0, 1])\n",
    "        qml.PauliX(wires=0)\n",
    "        qml.CNOT(wires=[0, 1])\n",
    "        qml.PauliX(wires=0)\n",
    "        \n",
    "    # 3: f(0) = 0, f(1) = 1\n",
    "    if func == 3:\n",
    "        qml.CNOT(wires=[0, 1])\n",
    "        \n",
    "    # 4: f(0) = 1, f(1) = 0\n",
    "    if func == 4:\n",
    "        qml.PauliX(wires=0)\n",
    "        qml.CNOT(wires=[0, 1])\n",
    "        qml.PauliX(wires=0)"
   ]
  }
 ],
 "metadata": {
  "kernelspec": {
   "display_name": "Python 3 (ipykernel)",
   "language": "python",
   "name": "python3"
  },
  "language_info": {
   "codemirror_mode": {
    "name": "ipython",
    "version": 3
   },
   "file_extension": ".py",
   "mimetype": "text/x-python",
   "name": "python",
   "nbconvert_exporter": "python",
   "pygments_lexer": "ipython3",
   "version": "3.9.7"
  }
 },
 "nbformat": 4,
 "nbformat_minor": 5
}

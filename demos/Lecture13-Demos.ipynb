{
 "cells": [
  {
   "cell_type": "markdown",
   "id": "1ecc2235-07c3-4098-8bb1-cd170f86e5c5",
   "metadata": {},
   "source": [
    "# Demos: Lecture 13"
   ]
  },
  {
   "cell_type": "code",
   "execution_count": 1,
   "id": "f7686aae-1335-4c15-8153-2ff494c30043",
   "metadata": {},
   "outputs": [],
   "source": [
    "import pennylane as qml\n",
    "from pennylane import numpy as np\n",
    "import matplotlib.pyplot as plt"
   ]
  },
  {
   "cell_type": "markdown",
   "id": "4db31eab-aa15-424d-aa21-825102901871",
   "metadata": {},
   "source": [
    "## Demo 1: Parameter-shift rules"
   ]
  },
  {
   "cell_type": "markdown",
   "id": "a2c1942b-5881-4f14-850a-c94776a15ec4",
   "metadata": {},
   "source": [
    "Suppose we run a parametrized circuit $U(\\theta)$ and measure $\\langle B \\rangle$. The output, $\\langle B \\rangle$, is a function of the parameter $\\theta$. The parameter-shift rule allows us to evaluate the gradient of this function at any point:\n",
    "\n",
    "$$\n",
    "\\frac{\\partial \\langle B \\rangle}{\\partial \\theta} = \\frac{1}{2} \\left( U(\\theta + \\pi/2) - U(\\theta - \\pi/2) \\right),\n",
    "$$\n",
    "\n",
    "where the notation $U(\\theta + \\pi/2)$ implicitly means the output of running $U(\\theta)$ at a particular parameter value. This works even for circuits with multiple parameters: we can apply the parameter-shift rule to each parameter independently."
   ]
  },
  {
   "cell_type": "markdown",
   "id": "674342f5-0bb5-48a4-8300-92be741ed358",
   "metadata": {},
   "source": [
    "**Exercise**: Write a QNode that implements the quantum circuit below. Then:\n",
    " - use the parameter-shift rules to compute the gradients with respect to each of the parameters ($\\theta = 0.1, \\phi = 0.2$) indepedently\n",
    " - compare this to the gradients obtained using `qml.grad` on both parameters"
   ]
  },
  {
   "cell_type": "markdown",
   "id": "c522e0b5-ffb5-4ef4-b6f9-74cff28de96f",
   "metadata": {},
   "source": [
    "<img src=\"fig/two_param_opt.png\" width=\"800\">"
   ]
  },
  {
   "cell_type": "markdown",
   "id": "7696e032-06bc-44f2-b4d8-d7452bf79295",
   "metadata": {},
   "source": [
    "theta: 0.975\n",
    "phi: -0.019"
   ]
  },
  {
   "cell_type": "code",
   "execution_count": 2,
   "id": "7654f160-a7ae-4d55-8afb-2593b0ca6fa5",
   "metadata": {},
   "outputs": [],
   "source": [
    "dev = qml.device('default.qubit', wires=2)\n",
    "\n",
    "@qml.qnode(dev, diff_method=\"parameter-shift\")\n",
    "def my_qfunc(theta, phi):\n",
    "    qml.RY(theta, wires=0)\n",
    "    qml.RX(phi, wires=1)\n",
    "    qml.CNOT(wires=[0, 1])\n",
    "    qml.CNOT(wires=[1, 0])\n",
    "    return qml.expval(qml.PauliZ(0) @ qml.PauliX(1))"
   ]
  },
  {
   "cell_type": "code",
   "execution_count": 3,
   "id": "c1b02a26-c31c-4e6d-9c31-3d018de379e6",
   "metadata": {},
   "outputs": [
    {
     "name": "stderr",
     "output_type": "stream",
     "text": [
      "/home/olivia/Code/pennylane/pennylane/qnode.py:823: UserWarning: The device was switched during the call of the QNode, to avoid this behaviour definean interface argument instead of auto.\n",
      "  warnings.warn(\n"
     ]
    },
    {
     "data": {
      "text/plain": [
       "tensor(0.97517033, requires_grad=True)"
      ]
     },
     "execution_count": 3,
     "metadata": {},
     "output_type": "execute_result"
    }
   ],
   "source": [
    "0.5 * (my_qfunc(0.1 + np.pi/2, 0.2) - my_qfunc(0.1 - np.pi/2, 0.2))"
   ]
  },
  {
   "cell_type": "code",
   "execution_count": 4,
   "id": "5659b11d-08e3-4c5f-8280-b4b742554808",
   "metadata": {},
   "outputs": [
    {
     "data": {
      "text/plain": [
       "tensor(-0.01983384, requires_grad=True)"
      ]
     },
     "execution_count": 4,
     "metadata": {},
     "output_type": "execute_result"
    }
   ],
   "source": [
    "0.5 * (my_qfunc(0.1, 0.2 + np.pi/2) - my_qfunc(0.1, 0.2 - np.pi/2))"
   ]
  },
  {
   "cell_type": "code",
   "execution_count": 6,
   "id": "a937d77f-e507-4659-b2f6-7397d77c5ac4",
   "metadata": {},
   "outputs": [
    {
     "data": {
      "text/plain": [
       "(array(0.97517033), array(-0.01983384))"
      ]
     },
     "execution_count": 6,
     "metadata": {},
     "output_type": "execute_result"
    }
   ],
   "source": [
    "theta = np.array(0.1, requires_grad=True)\n",
    "phi = np.array(0.2, requires_grad=True)\n",
    "\n",
    "grad_func = qml.grad(my_qfunc)\n",
    "grad_func(theta, phi)"
   ]
  },
  {
   "cell_type": "code",
   "execution_count": 11,
   "id": "c84228b7-ea39-40e0-bc47-6c8be6d32104",
   "metadata": {},
   "outputs": [],
   "source": [
    "theta = np.array(0., requires_grad=True)\n",
    "phi = np.array(0., requires_grad=True)\n",
    "\n",
    "opt = qml.GradientDescentOptimizer()\n",
    "\n",
    "num_its = 200\n",
    "running_costs = []\n",
    "\n",
    "for _ in range(num_its):\n",
    "    (theta, phi), _cost = opt.step_and_cost(my_qfunc, theta, phi)\n",
    "    running_costs.append(_cost)"
   ]
  },
  {
   "cell_type": "code",
   "execution_count": 12,
   "id": "a845c7a1-2e08-4342-9b52-2a9dc30e4d0a",
   "metadata": {},
   "outputs": [
    {
     "data": {
      "text/plain": [
       "[<matplotlib.lines.Line2D at 0x7f73028fa3d0>]"
      ]
     },
     "execution_count": 12,
     "metadata": {},
     "output_type": "execute_result"
    },
    {
     "data": {
      "image/png": "[encoded data removed]",
      "text/plain": [
       "<Figure size 432x288 with 1 Axes>"
      ]
     },
     "metadata": {
      "needs_background": "light"
     },
     "output_type": "display_data"
    }
   ],
   "source": [
    "plt.plot(running_costs)"
   ]
  },
  {
   "cell_type": "code",
   "execution_count": 13,
   "id": "fc433fc0-4208-4d74-a8a3-3e8db95ab9ee",
   "metadata": {},
   "outputs": [
    {
     "data": {
      "text/plain": [
       "tensor(-1.30352431, requires_grad=True)"
      ]
     },
     "execution_count": 13,
     "metadata": {},
     "output_type": "execute_result"
    }
   ],
   "source": [
    "theta"
   ]
  },
  {
   "cell_type": "code",
   "execution_count": 15,
   "id": "dbeacf3c-9127-41b6-8cba-71c5783ed49e",
   "metadata": {},
   "outputs": [
    {
     "data": {
      "text/plain": [
       "tensor(0., requires_grad=True)"
      ]
     },
     "execution_count": 15,
     "metadata": {},
     "output_type": "execute_result"
    }
   ],
   "source": [
    "phi"
   ]
  }
 ],
 "metadata": {
  "kernelspec": {
   "display_name": "Python 3 (ipykernel)",
   "language": "python",
   "name": "python3"
  },
  "language_info": {
   "codemirror_mode": {
    "name": "ipython",
    "version": 3
   },
   "file_extension": ".py",
   "mimetype": "text/x-python",
   "name": "python",
   "nbconvert_exporter": "python",
   "pygments_lexer": "ipython3",
   "version": "3.9.12"
  }
 },
 "nbformat": 4,
 "nbformat_minor": 5
}

{
 "cells": [
  {
   "cell_type": "markdown",
   "metadata": {},
   "source": [
    "# Demos: Lecture 10"
   ]
  },
  {
   "cell_type": "markdown",
   "metadata": {},
   "source": [
    "## Demo 1: QFT from scratch"
   ]
  },
  {
   "cell_type": "code",
   "execution_count": 1,
   "metadata": {},
   "outputs": [],
   "source": [
    "import pennylane as qml\n",
    "import numpy as np"
   ]
  },
  {
   "cell_type": "markdown",
   "metadata": {},
   "source": [
    "<img src=\"fig/qft-full.png\" width=\"1200px\">"
   ]
  },
  {
   "cell_type": "markdown",
   "metadata": {},
   "source": [
    "$$\n",
    "R_k = \\begin{pmatrix} 1 & 0 \\\\ 0 & e^{2\\pi i/2^k} \\end{pmatrix}\n",
    "$$"
   ]
  },
  {
   "cell_type": "code",
   "execution_count": 2,
   "metadata": {},
   "outputs": [],
   "source": [
    "def apply_swaps(wires=None):\n",
    "    for qubit_idx in range(0, len(wires)//2):\n",
    "        qml.SWAP(wires=[qubit_idx, len(wires) - qubit_idx - 1])"
   ]
  },
  {
   "cell_type": "code",
   "execution_count": 20,
   "metadata": {},
   "outputs": [],
   "source": [
    "def apply_controlled_rotations(wires=None):\n",
    "    if len(wires) == 1:\n",
    "        qml.Hadamard(wires=wires[0])\n",
    "    else:\n",
    "        qml.Hadamard(wires=wires[0])\n",
    "        for k in range(1, len(wires)):\n",
    "            qml.ControlledPhaseShift(2 * np.pi/(2 ** (k + 1)), wires=[wires[k], wires[0]])\n",
    "        apply_controlled_rotations(wires=wires[1:])"
   ]
  },
  {
   "cell_type": "code",
   "execution_count": 21,
   "metadata": {},
   "outputs": [],
   "source": [
    "dev = qml.device('default.qubit', wires=5)\n",
    "\n",
    "@qml.qnode(dev)\n",
    "def QFT_circuit():\n",
    "    apply_controlled_rotations(wires=dev.wires)\n",
    "    apply_swaps(wires=dev.wires)\n",
    "    return qml.state()"
   ]
  },
  {
   "cell_type": "code",
   "execution_count": 22,
   "metadata": {},
   "outputs": [
    {
     "name": "stdout",
     "output_type": "stream",
     "text": [
      "0: ──H─╭Rϕ(1.57)─╭Rϕ(0.79)─╭Rϕ(0.39)─╭Rϕ(0.20)──────────────────────────────────────────────\n",
      "1: ────╰●────────│─────────│─────────│──────────H─╭Rϕ(1.57)─╭Rϕ(0.79)─╭Rϕ(0.39)─────────────\n",
      "2: ──────────────╰●────────│─────────│────────────╰●────────│─────────│──────────H─╭Rϕ(1.57)\n",
      "3: ────────────────────────╰●────────│──────────────────────╰●────────│────────────╰●───────\n",
      "4: ──────────────────────────────────╰●───────────────────────────────╰●────────────────────\n",
      "\n",
      "────────────────────────────╭SWAP───────┤  State\n",
      "────────────────────────────│─────╭SWAP─┤  State\n",
      "──╭Rϕ(0.79)─────────────────│─────│─────┤  State\n",
      "──│──────────H─╭Rϕ(1.57)────│─────╰SWAP─┤  State\n",
      "──╰●───────────╰●─────────H─╰SWAP───────┤  State\n"
     ]
    }
   ],
   "source": [
    "print(qml.draw(QFT_circuit)())"
   ]
  },
  {
   "cell_type": "markdown",
   "metadata": {},
   "source": [
    "## Demo 2: QFT from template"
   ]
  },
  {
   "cell_type": "code",
   "execution_count": 17,
   "metadata": {},
   "outputs": [],
   "source": [
    "dev = qml.device('default.qubit', wires=5)\n",
    "\n",
    "@qml.qnode(dev)\n",
    "def QFT_with_pennylane():\n",
    "    qml.QFT.compute_decomposition(wires=dev.wires, n_wires=len(dev.wires))\n",
    "    return qml.state()"
   ]
  },
  {
   "cell_type": "code",
   "execution_count": 18,
   "metadata": {},
   "outputs": [
    {
     "name": "stdout",
     "output_type": "stream",
     "text": [
      "0: ──H─╭Rϕ(1.57)─╭Rϕ(0.79)─╭Rϕ(0.39)─╭Rϕ(0.20)──────────────────────────────────────────────\n",
      "1: ────╰●────────│─────────│─────────│──────────H─╭Rϕ(1.57)─╭Rϕ(0.79)─╭Rϕ(0.39)─────────────\n",
      "2: ──────────────╰●────────│─────────│────────────╰●────────│─────────│──────────H─╭Rϕ(1.57)\n",
      "3: ────────────────────────╰●────────│──────────────────────╰●────────│────────────╰●───────\n",
      "4: ──────────────────────────────────╰●───────────────────────────────╰●────────────────────\n",
      "\n",
      "────────────────────────────╭SWAP───────┤  State\n",
      "────────────────────────────│─────╭SWAP─┤  State\n",
      "──╭Rϕ(0.79)─────────────────│─────│─────┤  State\n",
      "──│──────────H─╭Rϕ(1.57)────│─────╰SWAP─┤  State\n",
      "──╰●───────────╰●─────────H─╰SWAP───────┤  State\n"
     ]
    }
   ],
   "source": [
    "print(qml.draw(QFT_with_pennylane)())"
   ]
  },
  {
   "cell_type": "code",
   "execution_count": null,
   "metadata": {},
   "outputs": [],
   "source": []
  }
 ],
 "metadata": {
  "kernelspec": {
   "display_name": "Python 3 (ipykernel)",
   "language": "python",
   "name": "python3"
  },
  "language_info": {
   "codemirror_mode": {
    "name": "ipython",
    "version": 3
   },
   "file_extension": ".py",
   "mimetype": "text/x-python",
   "name": "python",
   "nbconvert_exporter": "python",
   "pygments_lexer": "ipython3",
   "version": "3.9.12"
  }
 },
 "nbformat": 4,
 "nbformat_minor": 4
}

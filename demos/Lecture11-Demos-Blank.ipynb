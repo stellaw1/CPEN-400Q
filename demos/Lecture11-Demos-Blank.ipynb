{
 "cells": [
  {
   "cell_type": "markdown",
   "metadata": {},
   "source": [
    "# Demos: Lecture 11"
   ]
  },
  {
   "cell_type": "code",
   "execution_count": 1,
   "metadata": {},
   "outputs": [],
   "source": [
    "import pennylane as qml\n",
    "from pennylane import numpy as np"
   ]
  },
  {
   "cell_type": "markdown",
   "metadata": {},
   "source": [
    "## Demo 1: Quantum phase estimation"
   ]
  },
  {
   "cell_type": "markdown",
   "metadata": {},
   "source": [
    "<img src=\"fig/qpe-full-screencap.png\" width=\"500px\">"
   ]
  },
  {
   "cell_type": "code",
   "execution_count": 2,
   "metadata": {},
   "outputs": [],
   "source": [
    "T = qml.T.compute_matrix()\n",
    "X = qml.PauliX.compute_matrix()\n",
    "I = np.eye(2)\n",
    "\n",
    "# 3 qubit operation\n",
    "\n",
    "U = np.kron(T, np.kron(X, I))"
   ]
  },
  {
   "cell_type": "code",
   "execution_count": 3,
   "metadata": {},
   "outputs": [],
   "source": [
    "# look at eigen states and values\n",
    "eigvals, eigvecs = np.linalg.eig(U)\n",
    "\n",
    "target_eigvec = eigvecs[:, 4]\n",
    "target_eigval = eigvals[4]"
   ]
  },
  {
   "cell_type": "code",
   "execution_count": 4,
   "metadata": {},
   "outputs": [
    {
     "data": {
      "text/plain": [
       "0.125"
      ]
     },
     "execution_count": 4,
     "metadata": {},
     "output_type": "execute_result"
    }
   ],
   "source": [
    "np.angle(target_eigval) / (2 * np.pi) # fractional binary 001 == decimal 0.125\n",
    "# angle divided by 2 pi"
   ]
  },
  {
   "cell_type": "code",
   "execution_count": 7,
   "metadata": {},
   "outputs": [
    {
     "data": {
      "text/plain": [
       "tensor([-0.        +0.00000000e+00j, -0.        +0.00000000e+00j,\n",
       "        -0.        +0.00000000e+00j, -0.        +0.00000000e+00j,\n",
       "         0.70710678+0.00000000e+00j, -0.        +0.00000000e+00j,\n",
       "         0.70710678+5.55111512e-17j, -0.        +0.00000000e+00j], requires_grad=True)"
      ]
     },
     "execution_count": 7,
     "metadata": {},
     "output_type": "execute_result"
    }
   ],
   "source": [
    "target_eigvec"
   ]
  },
  {
   "cell_type": "code",
   "execution_count": 8,
   "metadata": {},
   "outputs": [],
   "source": [
    "estimation_wires = [0, 1, 2]\n",
    "target_wires = [3, 4, 5]\n",
    "\n",
    "dev = qml.device(\"default.qubit\", wires=estimation_wires + target_wires, shots=1)"
   ]
  },
  {
   "cell_type": "code",
   "execution_count": 11,
   "metadata": {},
   "outputs": [],
   "source": [
    "@qml.qnode(dev)\n",
    "def quantum_phase_estimation():\n",
    "    for wire in estimation_wires:\n",
    "        qml.Hadamard(wires=wire)\n",
    "\n",
    "    # prepare wire state\n",
    "    qml.MottonenStatePreparation(target_eigvec, wires=target_wires)\n",
    "\n",
    "    # step 2\n",
    "    for power_of_two, control_wire in enumerate(estimation_wires[::-1]): # start from bottom and go up using enumeration\n",
    "        qml.ControlledQubitUnitary(\n",
    "            np.linalg.matrix_power(U, 2 ** power_of_two),\n",
    "            control_wires=control_wire,\n",
    "            wires=target_wires\n",
    "        ) # control on control_wires, apply on target_wires\n",
    "\n",
    "    # step 3\n",
    "    qml.adjoint(qml.QFT)(wires=estimation_wires)\n",
    "\n",
    "    # Measure\n",
    "    return qml.sample(wires=estimation_wires)\n"
   ]
  },
  {
   "cell_type": "code",
   "execution_count": 22,
   "metadata": {},
   "outputs": [
    {
     "data": {
      "text/plain": [
       "tensor([0, 0, 1], requires_grad=True)"
      ]
     },
     "execution_count": 22,
     "metadata": {},
     "output_type": "execute_result"
    }
   ],
   "source": [
    "quantum_phase_estimation()"
   ]
  },
  {
   "cell_type": "code",
   "execution_count": 24,
   "metadata": {},
   "outputs": [],
   "source": [
    "@qml.qnode(dev)\n",
    "def qpe_with_template():\n",
    "    qml.MottonenStatePreparation(target_eigvec, wires=target_wires)\n",
    "    qml.QuantumPhaseEstimation(\n",
    "        U,\n",
    "        target_wires=target_wires,\n",
    "        estimation_wires=estimation_wires\n",
    "    )\n",
    "    return qml.sample(wires=estimation_wires)"
   ]
  },
  {
   "cell_type": "code",
   "execution_count": 25,
   "metadata": {},
   "outputs": [
    {
     "data": {
      "text/plain": [
       "tensor([0, 0, 1], requires_grad=True)"
      ]
     },
     "execution_count": 25,
     "metadata": {},
     "output_type": "execute_result"
    }
   ],
   "source": [
    "qpe_with_template()"
   ]
  },
  {
   "cell_type": "markdown",
   "metadata": {
    "tags": []
   },
   "source": [
    "## Demo 2: Order finding"
   ]
  },
  {
   "cell_type": "code",
   "execution_count": null,
   "metadata": {},
   "outputs": [],
   "source": [
    "from lecture11_helpers import *"
   ]
  },
  {
   "cell_type": "code",
   "execution_count": null,
   "metadata": {},
   "outputs": [],
   "source": [
    "N = 13\n",
    "a = 5"
   ]
  },
  {
   "cell_type": "code",
   "execution_count": null,
   "metadata": {},
   "outputs": [],
   "source": [
    "for exp in range(1, N):\n",
    "    if (a ** exp) % N == 1:\n",
    "        print(f\"The order of {a} is {exp}\")\n",
    "        break"
   ]
  },
  {
   "cell_type": "code",
   "execution_count": null,
   "metadata": {},
   "outputs": [],
   "source": [
    "U_Na = get_U_Na(a, N)\n",
    "\n",
    "num_estimation_qubits = 10\n",
    "num_target_qubits = int(np.log2(len(U_Na)))\n",
    "\n",
    "estimation_wires = range(num_estimation_qubits)\n",
    "target_wires = range(num_estimation_qubits, num_estimation_qubits + num_target_qubits)"
   ]
  },
  {
   "cell_type": "code",
   "execution_count": null,
   "metadata": {},
   "outputs": [],
   "source": [
    "dev = qml.device('default.qubit', wires=num_estimation_qubits+num_target_qubits, shots=1)\n",
    "\n",
    "@qml.qnode(dev)\n",
    "def find_order():\n",
    "\n",
    "    return qml.sample(wires=estimation_wires)"
   ]
  },
  {
   "cell_type": "code",
   "execution_count": null,
   "metadata": {},
   "outputs": [],
   "source": [
    "possible_r = []\n",
    "\n",
    "for _ in range(10):\n",
    "    sample = find_order()\n",
    "    phase = fractional_binary_to_float(sample)\n",
    "    est_r = phase_to_order(phase, N)\n",
    "    possible_r.append(est_r)"
   ]
  },
  {
   "cell_type": "code",
   "execution_count": null,
   "metadata": {},
   "outputs": [],
   "source": []
  }
 ],
 "metadata": {
  "kernelspec": {
   "display_name": "cpen400q",
   "language": "python",
   "name": "python3"
  },
  "language_info": {
   "codemirror_mode": {
    "name": "ipython",
    "version": 3
   },
   "file_extension": ".py",
   "mimetype": "text/x-python",
   "name": "python",
   "nbconvert_exporter": "python",
   "pygments_lexer": "ipython3",
   "version": "3.11.0"
  },
  "vscode": {
   "interpreter": {
    "hash": "635ed6af5a464993c12eb65282051ed9764a82bc104a339084de04a398e679ff"
   }
  }
 },
 "nbformat": 4,
 "nbformat_minor": 4
}

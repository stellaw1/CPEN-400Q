{
 "cells": [
  {
   "cell_type": "markdown",
   "id": "2944e1a3-aae3-40ed-ad15-b9002c1aac81",
   "metadata": {},
   "source": [
    "# Demos: Lecture 21"
   ]
  },
  {
   "cell_type": "markdown",
   "id": "791fb07d-2803-4c3d-8db4-204d64521865",
   "metadata": {},
   "source": [
    "## Demo 1: Grover's algorithm"
   ]
  },
  {
   "cell_type": "markdown",
   "id": "9a4c5242-c8e1-4bed-956f-5030a941d932",
   "metadata": {},
   "source": [
    "<img src=\"fig/grover_full.png\" width=\"400px\">"
   ]
  },
  {
   "cell_type": "code",
   "execution_count": null,
   "id": "fa18b6e2-989a-454b-a48a-d4616bee7f0d",
   "metadata": {},
   "outputs": [],
   "source": [
    "import pennylane as qml\n",
    "import numpy as np"
   ]
  },
  {
   "cell_type": "code",
   "execution_count": null,
   "id": "fc4a1d76-863f-41a7-8c79-43fc0aba128b",
   "metadata": {},
   "outputs": [],
   "source": [
    "n_bits = 5\n",
    "special_string = '' \n",
    "\n",
    "dev = qml.device('default.qubit', wires=n_bits+1)"
   ]
  },
  {
   "cell_type": "code",
   "execution_count": null,
   "id": "424747fb-e9f3-4f19-99a2-24a92a0b40e5",
   "metadata": {},
   "outputs": [],
   "source": []
  },
  {
   "cell_type": "code",
   "execution_count": null,
   "id": "b848aeb4-d47e-4b47-ba9c-ab828f5fb808",
   "metadata": {},
   "outputs": [],
   "source": []
  },
  {
   "cell_type": "code",
   "execution_count": null,
   "id": "071d6fcd-5f66-4534-b339-f106595be629",
   "metadata": {},
   "outputs": [],
   "source": []
  },
  {
   "cell_type": "markdown",
   "id": "cd66dcca-36b6-4d2f-8a66-70900c02a0e7",
   "metadata": {},
   "source": [
    "For plotting after the implementation"
   ]
  },
  {
   "cell_type": "code",
   "execution_count": null,
   "id": "8141da30-eb89-493b-979c-365d097c7c2e",
   "metadata": {},
   "outputs": [],
   "source": [
    "import matplotlib.pyplot as plt\n",
    "\n",
    "for n in range(10):\n",
    "    plt.bar(\n",
    "        list(range(2 ** n_bits)),\n",
    "        grover(num_steps=n)\n",
    "    )\n",
    "    plt.show()"
   ]
  }
 ],
 "metadata": {
  "kernelspec": {
   "display_name": "Python 3",
   "language": "python",
   "name": "python3"
  },
  "language_info": {
   "codemirror_mode": {
    "name": "ipython",
    "version": 3
   },
   "file_extension": ".py",
   "mimetype": "text/x-python",
   "name": "python",
   "nbconvert_exporter": "python",
   "pygments_lexer": "ipython3",
   "version": "3.8.5"
  }
 },
 "nbformat": 4,
 "nbformat_minor": 5
}

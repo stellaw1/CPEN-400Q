{
 "cells": [
  {
   "cell_type": "markdown",
   "id": "e530df96-e795-4dba-86ff-7f969d436c0f",
   "metadata": {},
   "source": [
    "# Demos: Lecture 17"
   ]
  },
  {
   "cell_type": "code",
   "execution_count": 1,
   "id": "4cb1b2ce-b9fe-4798-be91-180b3456d1ba",
   "metadata": {},
   "outputs": [],
   "source": [
    "import pennylane as qml\n",
    "from pennylane import numpy as np"
   ]
  },
  {
   "cell_type": "code",
   "execution_count": 2,
   "id": "d9939e5d-2b41-4ad9-a539-c2bdcb03ffe2",
   "metadata": {},
   "outputs": [],
   "source": [
    "def prepare_state():\n",
    "    qml.RY(2 * np.pi/3, wires=0)\n",
    "    \n",
    "dev = qml.device(\"default.qubit\", wires=1)\n",
    "\n",
    "@qml.qnode(dev)\n",
    "def circuit():\n",
    "    prepare_state()\n",
    "    return qml.state()"
   ]
  },
  {
   "cell_type": "code",
   "execution_count": 3,
   "id": "d7c95fd4-af8a-4828-842e-742307fe5935",
   "metadata": {},
   "outputs": [
    {
     "data": {
      "text/plain": [
       "tensor([0.5      +0.j, 0.8660254+0.j], requires_grad=True)"
      ]
     },
     "execution_count": 3,
     "metadata": {},
     "output_type": "execute_result"
    }
   ],
   "source": [
    "circuit()"
   ]
  },
  {
   "cell_type": "code",
   "execution_count": 4,
   "id": "49e400fe-f545-45bb-b20b-7f2838ad8f19",
   "metadata": {},
   "outputs": [],
   "source": [
    "dev_mixed = qml.device(\"default.mixed\", wires=1)"
   ]
  },
  {
   "cell_type": "code",
   "execution_count": 5,
   "id": "77793640-5a3c-480f-81c5-e3f9c4ca786e",
   "metadata": {},
   "outputs": [],
   "source": [
    "@qml.qnode(dev_mixed)\n",
    "def circuit():\n",
    "    prepare_state()\n",
    "    return qml.state()"
   ]
  },
  {
   "cell_type": "code",
   "execution_count": 6,
   "id": "acf5ee4b-5ffc-4c52-b4d0-35c90bff4758",
   "metadata": {},
   "outputs": [
    {
     "data": {
      "text/plain": [
       "array([[0.25     +0.j, 0.4330127+0.j],\n",
       "       [0.4330127+0.j, 0.75     +0.j]])"
      ]
     },
     "execution_count": 6,
     "metadata": {},
     "output_type": "execute_result"
    }
   ],
   "source": [
    "circuit()"
   ]
  },
  {
   "cell_type": "code",
   "execution_count": 7,
   "id": "49098507-8161-49e7-b2e0-208beeaa8862",
   "metadata": {},
   "outputs": [],
   "source": [
    "@qml.qnode(dev_mixed)\n",
    "def circuit():\n",
    "    prepare_state()\n",
    "    qml.BitFlip(0.02, wires=0)\n",
    "    return qml.state()"
   ]
  },
  {
   "cell_type": "code",
   "execution_count": 8,
   "id": "15251e02-2db8-437a-ab6a-5a68e5cfa400",
   "metadata": {},
   "outputs": [
    {
     "data": {
      "text/plain": [
       "array([[0.26     +0.j, 0.4330127+0.j],\n",
       "       [0.4330127+0.j, 0.74     +0.j]])"
      ]
     },
     "execution_count": 8,
     "metadata": {},
     "output_type": "execute_result"
    }
   ],
   "source": [
    "circuit()"
   ]
  },
  {
   "cell_type": "code",
   "execution_count": null,
   "id": "a0173b92-6448-405c-9d04-03c13d7580ab",
   "metadata": {},
   "outputs": [],
   "source": []
  }
 ],
 "metadata": {
  "kernelspec": {
   "display_name": "Python 3 (ipykernel)",
   "language": "python",
   "name": "python3"
  },
  "language_info": {
   "codemirror_mode": {
    "name": "ipython",
    "version": 3
   },
   "file_extension": ".py",
   "mimetype": "text/x-python",
   "name": "python",
   "nbconvert_exporter": "python",
   "pygments_lexer": "ipython3",
   "version": "3.9.12"
  }
 },
 "nbformat": 4,
 "nbformat_minor": 5
}

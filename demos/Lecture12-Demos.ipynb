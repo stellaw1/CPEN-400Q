{
 "cells": [
  {
   "cell_type": "markdown",
   "metadata": {},
   "source": [
    "# Demos: Lecture 12"
   ]
  },
  {
   "cell_type": "code",
   "execution_count": 1,
   "metadata": {},
   "outputs": [],
   "source": [
    "import pennylane as qml\n",
    "import numpy as np\n",
    "\n",
    "from lecture12_helpers import *"
   ]
  },
  {
   "cell_type": "markdown",
   "metadata": {
    "tags": []
   },
   "source": [
    "## Demo 1: Order finding"
   ]
  },
  {
   "cell_type": "code",
   "execution_count": 1,
   "metadata": {},
   "outputs": [],
   "source": [
    "N = 13\n",
    "a = 5"
   ]
  },
  {
   "cell_type": "code",
   "execution_count": 2,
   "metadata": {},
   "outputs": [
    {
     "name": "stdout",
     "output_type": "stream",
     "text": [
      "The order of 5 is 4\n"
     ]
    }
   ],
   "source": [
    "for exp in range(1, N):\n",
    "    if (a ** exp) % N == 1:\n",
    "        print(f\"The order of {a} is {exp}\")\n",
    "        break"
   ]
  },
  {
   "cell_type": "code",
   "execution_count": 3,
   "metadata": {},
   "outputs": [],
   "source": [
    "def run_order_finding(a, N):\n",
    "    U_Na = get_U_Na(a, N)\n",
    "    \n",
    "    num_estimation_qubits = 10\n",
    "    num_target_qubits = int(np.log2(len(U_Na)))\n",
    "    \n",
    "    estimation_wires = range(num_estimation_qubits)\n",
    "    target_wires = range(num_estimation_qubits, num_estimation_qubits + num_target_qubits)\n",
    "    \n",
    "    dev = qml.device('default.qubit', wires=num_estimation_qubits+num_target_qubits, shots=1)\n",
    "    \n",
    "    @qml.qnode(dev)\n",
    "    def find_order():\n",
    "        # Prepare target register\n",
    "        qml.PauliX(wires=target_wires[-1])\n",
    "        \n",
    "        # Do phase estimation\n",
    "        qml.QuantumPhaseEstimation(\n",
    "            U_Na,\n",
    "            estimation_wires=estimation_wires,\n",
    "            target_wires=target_wires\n",
    "        )\n",
    "        \n",
    "        return qml.sample(wires=estimation_wires)\n",
    "\n",
    "    possible_r = []\n",
    "    \n",
    "    for _ in range(10):\n",
    "        sample = find_order()\n",
    "        #print(f\"Sample = {sample}\")\n",
    "        phase = fractional_binary_to_float(sample)\n",
    "        #print(f\"Numerical phase = {phase}\")\n",
    "        est_r = phase_to_order(phase, N)\n",
    "        #print(f\"Guess for r = {est_r}\")\n",
    "        possible_r.append(est_r)\n",
    "        \n",
    "    return max(possible_r)"
   ]
  },
  {
   "cell_type": "code",
   "execution_count": 4,
   "metadata": {},
   "outputs": [
    {
     "ename": "NameError",
     "evalue": "name 'get_U_Na' is not defined",
     "output_type": "error",
     "traceback": [
      "\u001b[1;31m---------------------------------------------------------------------------\u001b[0m",
      "\u001b[1;31mNameError\u001b[0m                                 Traceback (most recent call last)",
      "Cell \u001b[1;32mIn[4], line 1\u001b[0m\n\u001b[1;32m----> 1\u001b[0m run_order_finding(a, N)\n",
      "Cell \u001b[1;32mIn[3], line 2\u001b[0m, in \u001b[0;36mrun_order_finding\u001b[1;34m(a, N)\u001b[0m\n\u001b[0;32m      1\u001b[0m \u001b[39mdef\u001b[39;00m \u001b[39mrun_order_finding\u001b[39m(a, N):\n\u001b[1;32m----> 2\u001b[0m     U_Na \u001b[39m=\u001b[39m get_U_Na(a, N)\n\u001b[0;32m      4\u001b[0m     num_estimation_qubits \u001b[39m=\u001b[39m \u001b[39m10\u001b[39m\n\u001b[0;32m      5\u001b[0m     num_target_qubits \u001b[39m=\u001b[39m \u001b[39mint\u001b[39m(np\u001b[39m.\u001b[39mlog2(\u001b[39mlen\u001b[39m(U_Na)))\n",
      "\u001b[1;31mNameError\u001b[0m: name 'get_U_Na' is not defined"
     ]
    }
   ],
   "source": [
    "run_order_finding(a, N)"
   ]
  },
  {
   "cell_type": "markdown",
   "metadata": {},
   "source": [
    "## Demo 2: Shor's algorithm"
   ]
  },
  {
   "cell_type": "markdown",
   "metadata": {},
   "source": [
    "<img src=\"fig/shor-flowchart.jpeg\" width=\"500px\">"
   ]
  },
  {
   "cell_type": "code",
   "execution_count": null,
   "metadata": {},
   "outputs": [],
   "source": [
    "def shors_algorithm(N):\n",
    "    for _ in range(10):\n",
    "        a = np.random.choice(list(range(2, N-1)))\n",
    "\n",
    "        # if np.gcd(a, N) != 1:\n",
    "        #     print(\"We got lucky!\")\n",
    "        #     p = np.gcd(a, N)\n",
    "        #     q = N // p\n",
    "        #     return p, q\n",
    "\n",
    "        # Slightly adjusted from the live demo in class\n",
    "        r = run_order_finding(a, N)\n",
    "\n",
    "        if r % 2 == 1:\n",
    "            continue\n",
    "            \n",
    "        x = (a ** (r // 2)) % N\n",
    "\n",
    "        if x == 1 or x == (N - 1):\n",
    "            continue\n",
    "            \n",
    "        p = np.gcd(x - 1, N)\n",
    "        q = np.gcd(x + 1, N)\n",
    "        return p, q"
   ]
  },
  {
   "cell_type": "code",
   "execution_count": null,
   "metadata": {},
   "outputs": [],
   "source": [
    "N = 187\n",
    "\n",
    "for _ in range(100):\n",
    "    p, q = shors_algorithm(N)\n",
    "    if p * q == N:\n",
    "        print(f\"p={p}\\nq={q}\")\n",
    "        break"
   ]
  },
  {
   "cell_type": "code",
   "execution_count": null,
   "metadata": {},
   "outputs": [],
   "source": []
  }
 ],
 "metadata": {
  "kernelspec": {
   "display_name": "Python 3 (ipykernel)",
   "language": "python",
   "name": "python3"
  },
  "language_info": {
   "codemirror_mode": {
    "name": "ipython",
    "version": 3
   },
   "file_extension": ".py",
   "mimetype": "text/x-python",
   "name": "python",
   "nbconvert_exporter": "python",
   "pygments_lexer": "ipython3",
   "version": "3.9.13"
  }
 },
 "nbformat": 4,
 "nbformat_minor": 4
}

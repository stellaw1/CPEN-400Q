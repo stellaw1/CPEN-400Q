{
 "cells": [
  {
   "cell_type": "markdown",
   "id": "e530df96-e795-4dba-86ff-7f969d436c0f",
   "metadata": {},
   "source": [
    "# Demos: Lecture 16"
   ]
  },
  {
   "cell_type": "code",
   "execution_count": null,
   "id": "2d8ba658-efef-45ca-8ea8-5ea6f12a6831",
   "metadata": {},
   "outputs": [],
   "source": [
    "import pennylane as qml\n",
    "from pennylane import numpy as np\n",
    "from itertools import chain\n",
    "\n",
    "from lecture16_helpers import *"
   ]
  },
  {
   "cell_type": "markdown",
   "id": "8bf34752-3f98-48b1-9874-18b9c03b180e",
   "metadata": {},
   "source": [
    "## Demo 1: QAOA from scratch"
   ]
  },
  {
   "cell_type": "markdown",
   "id": "dac83bdf-9626-4e46-b673-7b4eec020989",
   "metadata": {},
   "source": [
    "Our Hamiltonians:\n",
    "\n",
    "\n",
    "\\begin{equation*}\n",
    " \\hat{H}_{c} =  \\sum_{ij \\in E} \\left( Z_{i}  +  Z_{j} +\n",
    "   Z_{i} Z_{j}\\right) - 2 \\sum_{i \\in V}  Z_{i} \n",
    "\\end{equation*}\n",
    "\n",
    "\\begin{equation*}\n",
    "\\hat{H}_{m} = \\sum_{i} X_{i}\n",
    "\\end{equation*}"
   ]
  },
  {
   "cell_type": "markdown",
   "id": "551e8ef5-1712-4cd1-9af4-f3a3eac2993e",
   "metadata": {},
   "source": [
    "<img src=\"fig/qaoa.png\">"
   ]
  },
  {
   "cell_type": "code",
   "execution_count": null,
   "id": "da04e833-d436-4fb0-9ba5-6549c8b7868a",
   "metadata": {},
   "outputs": [],
   "source": [
    "edges = [(0, 1), (1, 2), (2, 3), (3, 4), (4, 0), (1, 4)]\n",
    "\n",
    "edge_term_ops = [\n",
    "    [qml.PauliZ(i), qml.PauliZ(j), qml.PauliZ(i) @ qml.PauliZ(j)] \n",
    "    for (i, j) in edges\n",
    "]\n",
    "edge_term_ops = list(chain(*edge_term_ops))\n",
    "\n",
    "edge_term_coeffs = [1] * len(edge_term_ops)    \n",
    "\n",
    "vertex_term_ops = [qml.PauliZ(i) for i in range(5)]\n",
    "vertex_term_coeffs = [-2] * len(vertex_term_ops)"
   ]
  },
  {
   "cell_type": "code",
   "execution_count": null,
   "id": "6956c3e7-d31c-4ee3-9872-c086747cd27f",
   "metadata": {},
   "outputs": [],
   "source": [
    "H_edge = qml.Hamiltonian(edge_term_coeffs, edge_term_ops)\n",
    "H_vertex = qml.Hamiltonian(vertex_term_coeffs, vertex_term_ops)\n",
    "H_cost = H_edge + H_vertex"
   ]
  },
  {
   "cell_type": "code",
   "execution_count": null,
   "id": "c4f38820-e6ba-4cf0-a259-b509fef3d45e",
   "metadata": {},
   "outputs": [],
   "source": [
    "plot_graph(edges)"
   ]
  },
  {
   "cell_type": "code",
   "execution_count": null,
   "id": "7043b543-291b-4cbb-b321-c4be1b333bef",
   "metadata": {},
   "outputs": [],
   "source": [
    "mixer_ops = [qml.PauliX(i) for i in range(5)]\n",
    "mixer_coeffs = [1] * len(mixer_ops)\n",
    "\n",
    "H_mixer = qml.Hamiltonian(mixer_coeffs, mixer_ops)"
   ]
  },
  {
   "cell_type": "code",
   "execution_count": null,
   "id": "c64af5c0-a5bf-4baf-9438-c3c4382cd552",
   "metadata": {},
   "outputs": [],
   "source": []
  }
 ],
 "metadata": {
  "kernelspec": {
   "display_name": "Python 3 (ipykernel)",
   "language": "python",
   "name": "python3"
  },
  "language_info": {
   "codemirror_mode": {
    "name": "ipython",
    "version": 3
   },
   "file_extension": ".py",
   "mimetype": "text/x-python",
   "name": "python",
   "nbconvert_exporter": "python",
   "pygments_lexer": "ipython3",
   "version": "3.9.12"
  }
 },
 "nbformat": 4,
 "nbformat_minor": 5
}

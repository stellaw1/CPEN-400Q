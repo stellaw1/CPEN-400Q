{
 "cells": [
  {
   "cell_type": "markdown",
   "id": "1ecc2235-07c3-4098-8bb1-cd170f86e5c5",
   "metadata": {},
   "source": [
    "# Demos: Lecture 15"
   ]
  },
  {
   "cell_type": "code",
   "execution_count": null,
   "id": "f7686aae-1335-4c15-8153-2ff494c30043",
   "metadata": {},
   "outputs": [],
   "source": [
    "import pennylane as qml\n",
    "from pennylane import numpy as np\n",
    "import matplotlib.pyplot as plt"
   ]
  },
  {
   "cell_type": "markdown",
   "id": "ced90c99-cda8-41fa-9b8e-f3d08ed0b358",
   "metadata": {},
   "source": [
    "## Demo 1: VQE for the deuteron (solution)"
   ]
  },
  {
   "cell_type": "markdown",
   "id": "d4141ec8-ff32-4448-9813-552b78ea2408",
   "metadata": {},
   "source": [
    "Below is a Hamiltonian for a _real_ physical system: a deuteron. The ground state of this Hamiltonian is a linear combination of 4 basis states with *real-valued* coefficients, i.e.,\n",
    "\n",
    "$$\n",
    "|\\psi_g\\rangle = a |1000\\rangle + b|0100\\rangle + c |0010\\rangle + d |0001\\rangle\n",
    "$$\n",
    "\n",
    "**Exercise**: Implement the VQE to find the ground state energy of this Hamiltonian.\n",
    "\n",
    "*Hint*: To create a suitable ansatz circuit, try generalizing the one from the previous demo."
   ]
  },
  {
   "cell_type": "code",
   "execution_count": null,
   "id": "9cfb6974-922e-4297-9766-513c326bf103",
   "metadata": {},
   "outputs": [],
   "source": [
    "coeffs = [28.657, 0.218, -6.125, -9.625, -13.125, -2.143, -3.913, -5.671, -2.143, -3.913, -5.671]\n",
    "\n",
    "ops = [\n",
    "    qml.Identity(0), \n",
    "    qml.PauliZ(0),\n",
    "    qml.PauliZ(1),\n",
    "    qml.PauliZ(2),\n",
    "    qml.PauliZ(3),\n",
    "    qml.PauliX(0) @ qml.PauliX(1),\n",
    "    qml.PauliX(1) @ qml.PauliX(2),\n",
    "    qml.PauliX(2) @ qml.PauliX(3),\n",
    "    qml.PauliY(0) @ qml.PauliY(1),\n",
    "    qml.PauliY(1) @ qml.PauliY(2),\n",
    "    qml.PauliY(2) @ qml.PauliY(3)\n",
    "]\n",
    "\n",
    "H = qml.Hamiltonian(coeffs, ops)"
   ]
  }
 ],
 "metadata": {
  "kernelspec": {
   "display_name": "Python 3 (ipykernel)",
   "language": "python",
   "name": "python3"
  },
  "language_info": {
   "codemirror_mode": {
    "name": "ipython",
    "version": 3
   },
   "file_extension": ".py",
   "mimetype": "text/x-python",
   "name": "python",
   "nbconvert_exporter": "python",
   "pygments_lexer": "ipython3",
   "version": "3.9.12"
  }
 },
 "nbformat": 4,
 "nbformat_minor": 5
}

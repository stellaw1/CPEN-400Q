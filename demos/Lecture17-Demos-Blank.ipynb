{
 "cells": [
  {
   "cell_type": "markdown",
   "id": "e530df96-e795-4dba-86ff-7f969d436c0f",
   "metadata": {},
   "source": [
    "# Demos: Lecture 17"
   ]
  },
  {
   "cell_type": "code",
   "execution_count": null,
   "id": "4cb1b2ce-b9fe-4798-be91-180b3456d1ba",
   "metadata": {},
   "outputs": [],
   "source": [
    "import pennylane as qml\n",
    "from pennylane import numpy as np"
   ]
  },
  {
   "cell_type": "code",
   "execution_count": null,
   "id": "d9939e5d-2b41-4ad9-a539-c2bdcb03ffe2",
   "metadata": {},
   "outputs": [],
   "source": [
    "def prepare_state():\n",
    "    qml.RY(2 * np.pi/3, wires=0)\n"
   ]
  }
 ],
 "metadata": {
  "kernelspec": {
   "display_name": "Python 3",
   "language": "python",
   "name": "python3"
  },
  "language_info": {
   "codemirror_mode": {
    "name": "ipython",
    "version": 3
   },
   "file_extension": ".py",
   "mimetype": "text/x-python",
   "name": "python",
   "nbconvert_exporter": "python",
   "pygments_lexer": "ipython3",
   "version": "3.8.5"
  }
 },
 "nbformat": 4,
 "nbformat_minor": 5
}
